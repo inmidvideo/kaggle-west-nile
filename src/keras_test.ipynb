{
 "cells": [
  {
   "cell_type": "code",
   "execution_count": 101,
   "metadata": {
    "collapsed": false
   },
   "outputs": [
    {
     "name": "stdout",
     "output_type": "stream",
     "text": [
      "Populating the interactive namespace from numpy and matplotlib\n"
     ]
    }
   ],
   "source": [
    "%pylab inline\n",
    "\n",
    "import pandas as pd\n",
    "import numpy as np\n",
    "\n",
    "from keras.models import Sequential\n",
    "from keras.utils import np_utils\n",
    "from keras.layers.core import Dense, Activation, Dropout\n",
    "\n",
    "from sklearn.preprocessing import MinMaxScaler"
   ]
  },
  {
   "cell_type": "code",
   "execution_count": 102,
   "metadata": {
    "collapsed": true
   },
   "outputs": [],
   "source": [
    "# Read data\n",
    "train = pd.read_csv('../working/train_f.csv')\n",
    "labels = train.ix[:,1].values.astype('int')\n",
    "X_train = (train.ix[:,2:].values).astype('float64')"
   ]
  },
  {
   "cell_type": "code",
   "execution_count": 103,
   "metadata": {
    "collapsed": false
   },
   "outputs": [],
   "source": [
    "# convert list of labels to binary class matrix\n",
    "y_train = np_utils.to_categorical(labels)"
   ]
  },
  {
   "cell_type": "code",
   "execution_count": 104,
   "metadata": {
    "collapsed": false
   },
   "outputs": [],
   "source": [
    "#n = X_train.shape[1]\n",
    "#m_train = X_train.shape[0]\n",
    "\n",
    "#mu = numpy.mean(X_train, axis=0)\n",
    "#sigma = numpy.std(X_train, axis=0)\n",
    "\n",
    "#Xn_train = np.zeros(X_train.shape)\n",
    "\n",
    "#for i in range(n):\n",
    "#    if sigma[i] > np.spacing(1):\n",
    "#        Xn_train[:,i] = (X_train[:,i] - mu[i])/sigma[i]\n",
    "\n",
    "min_max_scaler = MinMaxScaler()\n",
    "Xn_train = min_max_scaler.fit_transform(X_train)"
   ]
  },
  {
   "cell_type": "code",
   "execution_count": 105,
   "metadata": {
    "collapsed": false
   },
   "outputs": [],
   "source": [
    "input_dim = Xn_train.shape[1]\n",
    "nb_classes = y_train.shape[1]\n",
    "hidden_dim = 64\n",
    "hidden_layers = 1\n",
    "dropout = 0.15"
   ]
  },
  {
   "cell_type": "code",
   "execution_count": 106,
   "metadata": {
    "collapsed": true
   },
   "outputs": [],
   "source": [
    "model = None\n",
    "\n",
    "# Here's a Deep Dumb MLP (DDMLP)\n",
    "model = Sequential()\n",
    "model.add(Dense(input_dim, hidden_dim, init='lecun_uniform'))\n",
    "model.add(Activation('relu'))\n",
    "model.add(Dropout(dropout))\n",
    "for i in range(hidden_layers - 1):\n",
    "    model.add(Dense(hidden_dim, hidden_dim, init='lecun_uniform'))\n",
    "    model.add(Activation('relu'))\n",
    "    model.add(Dropout(dropout))\n",
    "model.add(Dense(hidden_dim, nb_classes, init='lecun_uniform'))\n",
    "model.add(Activation('relu'))"
   ]
  },
  {
   "cell_type": "code",
   "execution_count": 107,
   "metadata": {
    "collapsed": true
   },
   "outputs": [],
   "source": [
    "# we'll use MSE (mean squared error) for the loss, and RMSprop as the optimizer\n",
    "model.compile(loss='mse', optimizer='rmsprop')"
   ]
  },
  {
   "cell_type": "code",
   "execution_count": 108,
   "metadata": {
    "collapsed": false
   },
   "outputs": [
    {
     "name": "stdout",
     "output_type": "stream",
     "text": [
      "Training...\n",
      "Train on 9455 samples, validate on 1051 samples\n",
      "Epoch 0\n",
      "0s - loss: 0.0439 - acc.: 0.9601 - val. loss: 0.1612 - val. acc.: 0.8335\n",
      "Epoch 1\n",
      "0s - loss: 0.0407 - acc.: 0.9610 - val. loss: 0.1621 - val. acc.: 0.8335\n",
      "Epoch 2\n",
      "0s - loss: 0.0410 - acc.: 0.9598 - val. loss: 0.1567 - val. acc.: 0.8335\n",
      "Epoch 3\n",
      "0s - loss: 0.0390 - acc.: 0.9620 - val. loss: 0.1598 - val. acc.: 0.8335\n",
      "Epoch 4\n",
      "0s - loss: 0.0375 - acc.: 0.9632 - val. loss: 0.1603 - val. acc.: 0.8335\n",
      "Epoch 5\n",
      "0s - loss: 0.0406 - acc.: 0.9593 - val. loss: 0.1551 - val. acc.: 0.8335\n",
      "Epoch 6\n",
      "0s - loss: 0.0394 - acc.: 0.9606 - val. loss: 0.1589 - val. acc.: 0.8335\n",
      "Epoch 7\n",
      "0s - loss: 0.0391 - acc.: 0.9610 - val. loss: 0.1591 - val. acc.: 0.8335\n",
      "Epoch 8\n",
      "0s - loss: 0.0409 - acc.: 0.9590 - val. loss: 0.1565 - val. acc.: 0.8335\n",
      "Epoch 9\n",
      "0s - loss: 0.0408 - acc.: 0.9589 - val. loss: 0.1541 - val. acc.: 0.8335\n",
      "Epoch 10\n",
      "0s - loss: 0.0390 - acc.: 0.9606 - val. loss: 0.1581 - val. acc.: 0.8335\n",
      "Epoch 11\n",
      "0s - loss: 0.0404 - acc.: 0.9592 - val. loss: 0.1550 - val. acc.: 0.8335\n",
      "Epoch 12\n",
      "0s - loss: 0.0406 - acc.: 0.9589 - val. loss: 0.1550 - val. acc.: 0.8335\n",
      "Epoch 13\n",
      "0s - loss: 0.0379 - acc.: 0.9618 - val. loss: 0.1563 - val. acc.: 0.8335\n",
      "Epoch 14\n",
      "0s - loss: 0.0403 - acc.: 0.9591 - val. loss: 0.1548 - val. acc.: 0.8335\n"
     ]
    }
   ],
   "source": [
    "print(\"Training...\")\n",
    "model.fit(Xn_train, y_train, nb_epoch=15, batch_size=16, validation_split=0.1, show_accuracy=True, verbose=2)"
   ]
  },
  {
   "cell_type": "code",
   "execution_count": 109,
   "metadata": {
    "collapsed": false
   },
   "outputs": [],
   "source": [
    "preds = model.predict_classes(Xn_train, verbose=0)\n",
    "proba = model.predict_proba(Xn_test, verbose=0)"
   ]
  },
  {
   "cell_type": "code",
   "execution_count": 111,
   "metadata": {
    "collapsed": false
   },
   "outputs": [
    {
     "name": "stdout",
     "output_type": "stream",
     "text": [
      "0.947553778793\n",
      "             precision    recall  f1-score   support\n",
      "\n",
      "          0       0.95      1.00      0.97      9955\n",
      "          1       0.00      0.00      0.00       551\n",
      "\n",
      "avg / total       0.90      0.95      0.92     10506\n",
      "\n",
      "[[9955    0]\n",
      " [ 551    0]]\n"
     ]
    },
    {
     "name": "stderr",
     "output_type": "stream",
     "text": [
      "C:\\Program Files\\Anaconda\\lib\\site-packages\\sklearn\\metrics\\metrics.py:1771: UndefinedMetricWarning: Precision and F-score are ill-defined and being set to 0.0 in labels with no predicted samples.\n",
      "  'precision', 'predicted', average, warn_for)\n"
     ]
    }
   ],
   "source": [
    "# accuracy\n",
    "matches = (preds == labels)\n",
    "print matches.sum() / float(len(matches))\n",
    "\n",
    "# f1 score\n",
    "from sklearn import metrics\n",
    "print metrics.classification_report(labels, preds)\n",
    "\n",
    "# confusion matrix\n",
    "print metrics.confusion_matrix(labels, preds)"
   ]
  },
  {
   "cell_type": "code",
   "execution_count": null,
   "metadata": {
    "collapsed": true
   },
   "outputs": [],
   "source": []
  }
 ],
 "metadata": {
  "kernelspec": {
   "display_name": "Python 2",
   "language": "python",
   "name": "python2"
  },
  "language_info": {
   "codemirror_mode": {
    "name": "ipython",
    "version": 2
   },
   "file_extension": ".py",
   "mimetype": "text/x-python",
   "name": "python",
   "nbconvert_exporter": "python",
   "pygments_lexer": "ipython2",
   "version": "2.7.9"
  }
 },
 "nbformat": 4,
 "nbformat_minor": 0
}

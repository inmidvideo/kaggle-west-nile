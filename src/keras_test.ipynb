{
 "cells": [
  {
   "cell_type": "code",
   "execution_count": 1,
   "metadata": {
    "collapsed": false
   },
   "outputs": [
    {
     "name": "stdout",
     "output_type": "stream",
     "text": [
      "Populating the interactive namespace from numpy and matplotlib\n"
     ]
    }
   ],
   "source": [
    "%pylab inline\n",
    "\n",
    "import pandas as pd\n",
    "import numpy as np\n",
    "\n",
    "from keras.models import Sequential\n",
    "from keras.utils import np_utils\n",
    "from keras.layers.core import Dense, Activation, Dropout"
   ]
  },
  {
   "cell_type": "code",
   "execution_count": 7,
   "metadata": {
    "collapsed": true
   },
   "outputs": [],
   "source": [
    "# Read data\n",
    "train = pd.read_csv('../working/train_f.csv')\n",
    "labels = train.ix[:,1].values.astype('int32')\n",
    "X_train = (train.ix[:,2:].values).astype('float32')"
   ]
  },
  {
   "cell_type": "code",
   "execution_count": 64,
   "metadata": {
    "collapsed": false
   },
   "outputs": [],
   "source": [
    "# convert list of labels to binary class matrix\n",
    "y_train = np_utils.to_categorical(labels)"
   ]
  },
  {
   "cell_type": "code",
   "execution_count": 65,
   "metadata": {
    "collapsed": false
   },
   "outputs": [],
   "source": [
    "n = X_train.shape[1]\n",
    "m_train = X_train.shape[0]\n",
    "\n",
    "mu = numpy.mean(X_train, axis=0)\n",
    "sigma = numpy.std(X_train, axis=0)\n",
    "\n",
    "Xn_train = np.zeros(X_train.shape)\n",
    "\n",
    "for i in range(n):\n",
    "    if sigma[i] > np.spacing(1):\n",
    "        Xn_train[:,i] = (X_train[:,i] - mu[i])/sigma[i]"
   ]
  },
  {
   "cell_type": "code",
   "execution_count": 84,
   "metadata": {
    "collapsed": false
   },
   "outputs": [],
   "source": [
    "input_dim = Xn_train.shape[1]\n",
    "nb_classes = y_train.shape[1]\n",
    "hidden_dim = 64\n",
    "hidden_layers = 1\n",
    "dropout = 0.15"
   ]
  },
  {
   "cell_type": "code",
   "execution_count": 85,
   "metadata": {
    "collapsed": true
   },
   "outputs": [],
   "source": [
    "model = None\n",
    "\n",
    "# Here's a Deep Dumb MLP (DDMLP)\n",
    "model = Sequential()\n",
    "model.add(Dense(input_dim, hidden_dim, init='lecun_uniform'))\n",
    "model.add(Activation('relu'))\n",
    "model.add(Dropout(dropout))\n",
    "for i in range(hidden_layers - 1):\n",
    "    model.add(Dense(hidden_dim, hidden_dim, init='lecun_uniform'))\n",
    "    model.add(Activation('relu'))\n",
    "    model.add(Dropout(dropout))\n",
    "model.add(Dense(hidden_dim, nb_classes, init='lecun_uniform'))\n",
    "model.add(Activation('relu'))"
   ]
  },
  {
   "cell_type": "code",
   "execution_count": 86,
   "metadata": {
    "collapsed": true
   },
   "outputs": [],
   "source": [
    "# we'll use MSE (mean squared error) for the loss, and RMSprop as the optimizer\n",
    "model.compile(loss='mse', optimizer='rmsprop')"
   ]
  },
  {
   "cell_type": "code",
   "execution_count": 87,
   "metadata": {
    "collapsed": false
   },
   "outputs": [
    {
     "name": "stdout",
     "output_type": "stream",
     "text": [
      "Training...\n",
      "Train on 8404 samples, validate on 2102 samples\n",
      "Epoch 0\n",
      "0s - loss: 0.0412 - acc.: 0.9626 - val. loss: 0.1082 - val. acc.: 0.8863\n",
      "Epoch 1\n",
      "0s - loss: 0.0364 - acc.: 0.9627 - val. loss: 0.1100 - val. acc.: 0.8863\n",
      "Epoch 2\n",
      "0s - loss: 0.0326 - acc.: 0.9665 - val. loss: 0.1080 - val. acc.: 0.8863\n",
      "Epoch 3\n",
      "0s - loss: 0.0339 - acc.: 0.9652 - val. loss: 0.1114 - val. acc.: 0.8863\n",
      "Epoch 4\n",
      "0s - loss: 0.0361 - acc.: 0.9626 - val. loss: 0.1124 - val. acc.: 0.8863\n",
      "Epoch 5\n",
      "0s - loss: 0.0342 - acc.: 0.9646 - val. loss: 0.1135 - val. acc.: 0.8863\n",
      "Epoch 6\n",
      "0s - loss: 0.0349 - acc.: 0.9639 - val. loss: 0.1122 - val. acc.: 0.8863\n",
      "Epoch 7\n",
      "0s - loss: 0.0359 - acc.: 0.9625 - val. loss: 0.1146 - val. acc.: 0.8863\n",
      "Epoch 8\n",
      "0s - loss: 0.0366 - acc.: 0.9617 - val. loss: 0.1193 - val. acc.: 0.8863\n",
      "Epoch 9\n",
      "0s - loss: 0.0359 - acc.: 0.9625 - val. loss: 0.1217 - val. acc.: 0.8863\n",
      "Epoch 10\n",
      "0s - loss: 0.0362 - acc.: 0.9621 - val. loss: 0.1276 - val. acc.: 0.8863\n",
      "Epoch 11\n",
      "0s - loss: 0.0351 - acc.: 0.9635 - val. loss: 0.1284 - val. acc.: 0.8863\n",
      "Epoch 12\n",
      "0s - loss: 0.0373 - acc.: 0.9607 - val. loss: 0.1420 - val. acc.: 0.8863\n",
      "Epoch 13\n",
      "0s - loss: 0.0342 - acc.: 0.9643 - val. loss: 0.1468 - val. acc.: 0.8863\n",
      "Epoch 14\n",
      "0s - loss: 0.0387 - acc.: 0.9593 - val. loss: 0.1527 - val. acc.: 0.8863\n"
     ]
    }
   ],
   "source": [
    "print(\"Training...\")\n",
    "model.fit(Xn_train, y_train, nb_epoch=15, batch_size=16, validation_split=0.1, show_accuracy=True, verbose=2)"
   ]
  },
  {
   "cell_type": "code",
   "execution_count": 54,
   "metadata": {
    "collapsed": false
   },
   "outputs": [],
   "source": [
    "preds = model.predict_classes(Xn_train, verbose=0)\n",
    "proba = model.predict_proba(Xn_train, verbose=0)"
   ]
  },
  {
   "cell_type": "code",
   "execution_count": 79,
   "metadata": {
    "collapsed": false
   },
   "outputs": [
    {
     "name": "stdout",
     "output_type": "stream",
     "text": [
      "[[-1.04738855  1.00722623 -2.17247486  0.37116376 -0.00975668 -0.58797562\n",
      "   1.1003902  -0.59398645 -0.090848   -0.02390458 -0.14692491]\n",
      " [-1.04738855  1.00722623 -2.17247486  0.37116376 -0.00975668 -0.58797562\n",
      "  -0.90876859  1.68353975 -0.090848   -0.02390458 -0.14692491]\n",
      " [-0.71879941  1.36471558 -2.17247486 -0.6565991  -0.00975668 -0.58797562\n",
      "  -0.90876859  1.68353975 -0.090848   -0.02390458 -0.14692491]\n",
      " [-1.29421377  1.17930448 -2.17247486 -0.42820737 -0.00975668 -0.58797562\n",
      "   1.1003902  -0.59398645 -0.090848   -0.02390458 -0.14692491]\n",
      " [-1.29421377  1.17930448 -2.17247486 -0.42820737 -0.00975668 -0.58797562\n",
      "  -0.90876859  1.68353975 -0.090848   -0.02390458 -0.14692491]\n",
      " [ 0.34662867  0.71370387 -2.17247486 -0.48530531 -0.00975668 -0.58797562\n",
      "  -0.90876859  1.68353975 -0.090848   -0.02390458 -0.14692491]\n",
      " [ 0.47059566  0.44331706 -2.17247486 -0.6565991  -0.00975668 -0.58797562\n",
      "  -0.90876859  1.68353975 -0.090848   -0.02390458 -0.14692491]\n",
      " [ 0.47336221  0.23034029 -2.17247486 -0.42820737 -0.00975668 -0.58797562\n",
      "   1.1003902  -0.59398645 -0.090848   -0.02390458 -0.14692491]\n",
      " [ 0.47336221  0.23034029 -2.17247486 -0.42820737 -0.00975668 -0.58797562\n",
      "  -0.90876859  1.68353975 -0.090848   -0.02390458 -0.14692491]\n",
      " [ 0.46291763  0.48912358 -2.17247486 -0.59950119 -0.00975668 -0.58797562\n",
      "  -0.90876859  1.68353975 -0.090848   -0.02390458 -0.14692491]]\n"
     ]
    }
   ],
   "source": [
    "print Xn_train[0:10, :]"
   ]
  },
  {
   "cell_type": "code",
   "execution_count": null,
   "metadata": {
    "collapsed": false
   },
   "outputs": [],
   "source": []
  },
  {
   "cell_type": "code",
   "execution_count": null,
   "metadata": {
    "collapsed": false
   },
   "outputs": [],
   "source": []
  },
  {
   "cell_type": "code",
   "execution_count": null,
   "metadata": {
    "collapsed": true
   },
   "outputs": [],
   "source": []
  }
 ],
 "metadata": {
  "kernelspec": {
   "display_name": "Python 2",
   "language": "python",
   "name": "python2"
  },
  "language_info": {
   "codemirror_mode": {
    "name": "ipython",
    "version": 2
   },
   "file_extension": ".py",
   "mimetype": "text/x-python",
   "name": "python",
   "nbconvert_exporter": "python",
   "pygments_lexer": "ipython2",
   "version": "2.7.9"
  }
 },
 "nbformat": 4,
 "nbformat_minor": 0
}

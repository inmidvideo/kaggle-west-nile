{
 "cells": [
  {
   "cell_type": "code",
   "execution_count": 117,
   "metadata": {
    "collapsed": false
   },
   "outputs": [
    {
     "name": "stdout",
     "output_type": "stream",
     "text": [
      "Populating the interactive namespace from numpy and matplotlib\n"
     ]
    }
   ],
   "source": [
    "%pylab inline\n",
    "\n",
    "import pandas as pd\n",
    "import numpy as np\n",
    "\n",
    "from keras.models import Sequential\n",
    "from keras.utils import np_utils\n",
    "from keras.layers.core import Dense, Activation, Dropout\n",
    "\n",
    "from sklearn.preprocessing import StandardScaler\n",
    "from sklearn.cross_validation import train_test_split\n",
    "\n",
    "import datetime, time"
   ]
  },
  {
   "cell_type": "code",
   "execution_count": 118,
   "metadata": {
    "collapsed": false
   },
   "outputs": [],
   "source": [
    "# Read data\n",
    "wnv_train = pd.read_csv('../working/train_f.csv')\n",
    "wnv_test = pd.read_csv('../working/test_f.csv')"
   ]
  },
  {
   "cell_type": "code",
   "execution_count": null,
   "metadata": {
    "collapsed": true
   },
   "outputs": [],
   "source": []
  },
  {
   "cell_type": "code",
   "execution_count": 119,
   "metadata": {
    "collapsed": false
   },
   "outputs": [],
   "source": [
    "# convert list of labels to binary class matrix\n",
    "labels = wnv_train.ix[:,1].values.astype('int')\n",
    "yr_train = np_utils.to_categorical(labels)"
   ]
  },
  {
   "cell_type": "code",
   "execution_count": 120,
   "metadata": {
    "collapsed": false
   },
   "outputs": [],
   "source": [
    "# raw data\n",
    "#yr_train = wnv_train[:,1].astype(int)\n",
    "Xr_train =(wnv_train.ix[:,2:].values).astype('float64')\n",
    "Xr_test = (wnv_test.ix[:,1:].values).astype('float64')\n",
    "\n",
    "# normalize data\n",
    "scaler = StandardScaler()\n",
    "scaler.fit(Xr_train)\n",
    "Xn_train = scaler.transform(Xr_train)\n",
    "Xn_test = scaler.transform(Xr_test)\n",
    "\n",
    "X_train, X_test, y_train, y_test = train_test_split(Xn_train, yr_train)"
   ]
  },
  {
   "cell_type": "code",
   "execution_count": 122,
   "metadata": {
    "collapsed": false
   },
   "outputs": [],
   "source": [
    "input_dim = Xn_train.shape[1]\n",
    "nb_classes = y_train.shape[1]\n",
    "hidden_dim = 512\n",
    "\n",
    "hidden_layers = 2\n",
    "dropout = 0.25"
   ]
  },
  {
   "cell_type": "code",
   "execution_count": 123,
   "metadata": {
    "collapsed": true
   },
   "outputs": [],
   "source": [
    "model = None\n",
    "\n",
    "# create model\n",
    "model = Sequential()\n",
    "model.add(Dense(input_dim, hidden_dim, init='lecun_uniform'))\n",
    "model.add(Activation('relu'))\n",
    "model.add(Dropout(dropout))\n",
    "for i in range(hidden_layers - 1):\n",
    "    model.add(Dense(hidden_dim, hidden_dim, init='lecun_uniform'))\n",
    "    model.add(Activation('relu'))\n",
    "    model.add(Dropout(dropout))\n",
    "model.add(Dense(hidden_dim, nb_classes, init='lecun_uniform'))\n",
    "model.add(Activation('softmax'))"
   ]
  },
  {
   "cell_type": "code",
   "execution_count": 124,
   "metadata": {
    "collapsed": false
   },
   "outputs": [],
   "source": [
    "# compile model\n",
    "model.compile(loss='categorical_crossentropy', optimizer='adadelta')"
   ]
  },
  {
   "cell_type": "code",
   "execution_count": null,
   "metadata": {
    "collapsed": true
   },
   "outputs": [],
   "source": []
  },
  {
   "cell_type": "code",
   "execution_count": null,
   "metadata": {
    "collapsed": false
   },
   "outputs": [
    {
     "name": "stdout",
     "output_type": "stream",
     "text": [
      "Training...\n",
      "Epoch 0\n",
      "7879/7879 [==============================] - 6s - loss: 0.1879 - acc.: 0.9484     \n",
      "Epoch 1\n",
      "7879/7879 [==============================] - 6s - loss: 0.1755 - acc.: 0.9484     \n",
      "Epoch 2\n",
      "7879/7879 [==============================] - 6s - loss: 0.1754 - acc.: 0.9482     \n",
      "Epoch 3\n",
      "7879/7879 [==============================] - 6s - loss: 0.1725 - acc.: 0.9484     \n",
      "Epoch 4\n",
      "7879/7879 [==============================] - 6s - loss: 0.1731 - acc.: 0.9485     \n",
      "Epoch 5\n",
      "7879/7879 [==============================] - 6s - loss: 0.1720 - acc.: 0.9480     \n",
      "Epoch 6\n",
      "7879/7879 [==============================] - 6s - loss: 0.1686 - acc.: 0.9481     \n",
      "Epoch 7\n",
      "6272/7879 [======================>.......] - ETA: 1s - loss: 0.1707 - acc.: 0.9471"
     ]
    }
   ],
   "source": [
    "print(\"Training...\")\n",
    "model.fit(X_train, y_train, nb_epoch=10, batch_size=16, validation_split=0.0, show_accuracy=True, verbose=1)"
   ]
  },
  {
   "cell_type": "code",
   "execution_count": 108,
   "metadata": {
    "collapsed": false
   },
   "outputs": [
    {
     "name": "stdout",
     "output_type": "stream",
     "text": [
      "[[ 1.  0.]\n",
      " [ 1.  0.]\n",
      " [ 1.  0.]\n",
      " ..., \n",
      " [ 1.  0.]\n",
      " [ 1.  0.]\n",
      " [ 1.  0.]]\n"
     ]
    }
   ],
   "source": [
    "preds = model.predict_classes(X_test, verbose=0)\n",
    "proba = model.predict_proba(X_test, verbose=0)\n",
    "print y_test"
   ]
  },
  {
   "cell_type": "code",
   "execution_count": 109,
   "metadata": {
    "collapsed": false
   },
   "outputs": [
    {
     "name": "stdout",
     "output_type": "stream",
     "text": [
      "0.948610582413\n",
      "             precision    recall  f1-score   support\n",
      "\n",
      "        0.0       0.95      1.00      0.97      2491\n",
      "        1.0       0.56      0.04      0.07       136\n",
      "\n",
      "avg / total       0.93      0.95      0.93      2627\n",
      "\n",
      "[[2487    4]\n",
      " [ 131    5]]\n",
      "0.856114364654\n"
     ]
    }
   ],
   "source": [
    "# accuracy\n",
    "matches = (preds == y_test[:,1])\n",
    "print matches.sum() / float(len(matches))\n",
    "\n",
    "# f1 score\n",
    "from sklearn import metrics\n",
    "print metrics.classification_report( y_test[:,1], preds)\n",
    "\n",
    "# confusion matrix\n",
    "print metrics.confusion_matrix( y_test[:,1], preds)\n",
    "\n",
    "# auc\n",
    "print metrics.roc_auc_score(y_test[:,1], proba[:,1])"
   ]
  },
  {
   "cell_type": "code",
   "execution_count": 110,
   "metadata": {
    "collapsed": false
   },
   "outputs": [
    {
     "data": {
      "text/plain": [
       "0.90986024435449553"
      ]
     },
     "execution_count": 110,
     "metadata": {},
     "output_type": "execute_result"
    }
   ],
   "source": [
    "np.max(proba[:,1])"
   ]
  },
  {
   "cell_type": "code",
   "execution_count": 112,
   "metadata": {
    "collapsed": false
   },
   "outputs": [
    {
     "name": "stdout",
     "output_type": "stream",
     "text": [
      "116293/116293 [==============================] - 1s     \n",
      "0.99736629842\n"
     ]
    }
   ],
   "source": [
    "proba = model.predict_proba(Xn_test)\n",
    "print np.max(proba[:,1])"
   ]
  },
  {
   "cell_type": "code",
   "execution_count": 116,
   "metadata": {
    "collapsed": false
   },
   "outputs": [],
   "source": [
    "st = datetime.datetime.fromtimestamp(time.time()).strftime('%Y%m%d_%H%M%S')\n",
    "\n",
    "def write_preds(proba, fname):\n",
    "    pd.DataFrame({\"Id\": list(range(1,len(proba)+1)), \"WnvPresent\": proba}).to_csv(fname, index=False, header=True)\n",
    "\n",
    "#write_preds(preds[range(28000)], \"keras-mlp_\" + st + \".csv\")\n",
    "write_preds(proba[:,1], \"../working/keras_test_\" + st + \".csv\")"
   ]
  },
  {
   "cell_type": "code",
   "execution_count": null,
   "metadata": {
    "collapsed": true
   },
   "outputs": [],
   "source": []
  }
 ],
 "metadata": {
  "kernelspec": {
   "display_name": "Python 2",
   "language": "python",
   "name": "python2"
  },
  "language_info": {
   "codemirror_mode": {
    "name": "ipython",
    "version": 2
   },
   "file_extension": ".py",
   "mimetype": "text/x-python",
   "name": "python",
   "nbconvert_exporter": "python",
   "pygments_lexer": "ipython2",
   "version": "2.7.9"
  }
 },
 "nbformat": 4,
 "nbformat_minor": 0
}

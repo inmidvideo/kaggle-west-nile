{
 "cells": [
  {
   "cell_type": "code",
   "execution_count": 186,
   "metadata": {
    "collapsed": false
   },
   "outputs": [
    {
     "name": "stdout",
     "output_type": "stream",
     "text": [
      "Populating the interactive namespace from numpy and matplotlib\n"
     ]
    }
   ],
   "source": [
    "%pylab inline\n",
    "\n",
    "import pandas as pd\n",
    "import numpy as np\n",
    "\n",
    "from keras.models import Sequential\n",
    "from keras.utils import np_utils\n",
    "from keras.layers.core import Dense, Activation, Dropout\n",
    "\n",
    "from sklearn.preprocessing import StandardScaler\n",
    "from sklearn.cross_validation import train_test_split\n",
    "from sklearn.metrics import roc_curve, auc, classification_report, confusion_matrix, roc_auc_score\n",
    "\n",
    "import datetime, time"
   ]
  },
  {
   "cell_type": "code",
   "execution_count": 187,
   "metadata": {
    "collapsed": false
   },
   "outputs": [],
   "source": [
    "# Read data\n",
    "wnv_train = pd.read_csv('../working/train_f.csv')\n",
    "wnv_test = pd.read_csv('../working/test_f.csv')"
   ]
  },
  {
   "cell_type": "code",
   "execution_count": 188,
   "metadata": {
    "collapsed": false
   },
   "outputs": [],
   "source": [
    "# convert list of labels to binary class matrix\n",
    "labels = wnv_train.ix[:,1].values.astype('int')\n",
    "yr_train = np_utils.to_categorical(labels)"
   ]
  },
  {
   "cell_type": "code",
   "execution_count": 189,
   "metadata": {
    "collapsed": false
   },
   "outputs": [],
   "source": [
    "# raw data\n",
    "#yr_train = wnv_train[:,1].astype(int)\n",
    "Xr_train =(wnv_train.ix[:,2:].values).astype('float64')\n",
    "Xr_test = (wnv_test.ix[:,1:].values).astype('float64')\n",
    "\n",
    "# normalize data\n",
    "scaler = StandardScaler()\n",
    "scaler.fit(Xr_train)\n",
    "Xn_train = scaler.transform(Xr_train)\n",
    "Xn_test = scaler.transform(Xr_test)\n",
    "\n",
    "X_train, X_test, y_train, y_test = train_test_split(Xn_train, yr_train)"
   ]
  },
  {
   "cell_type": "code",
   "execution_count": 310,
   "metadata": {
    "collapsed": false
   },
   "outputs": [],
   "source": [
    "input_dim = Xn_train.shape[1]\n",
    "nb_classes = y_train.shape[1]\n",
    "hidden_dim = 256\n",
    "\n",
    "hidden_layers = 5\n",
    "dropout = 0.5"
   ]
  },
  {
   "cell_type": "code",
   "execution_count": 311,
   "metadata": {
    "collapsed": true
   },
   "outputs": [],
   "source": [
    "model = None\n",
    "\n",
    "# create model\n",
    "model = Sequential()\n",
    "model.add(Dense(input_dim, hidden_dim, init='lecun_uniform'))\n",
    "model.add(Activation('relu'))\n",
    "model.add(Dropout(dropout))\n",
    "for i in range(hidden_layers - 1):\n",
    "    model.add(Dense(hidden_dim, hidden_dim, init='lecun_uniform'))\n",
    "    model.add(Activation('relu'))\n",
    "    model.add(Dropout(dropout))\n",
    "model.add(Dense(hidden_dim, nb_classes, init='lecun_uniform'))\n",
    "model.add(Activation('softplus'))"
   ]
  },
  {
   "cell_type": "code",
   "execution_count": 312,
   "metadata": {
    "collapsed": false
   },
   "outputs": [],
   "source": [
    "# compile model\n",
    "model.compile(loss='categorical_crossentropy', optimizer='Adam')"
   ]
  },
  {
   "cell_type": "code",
   "execution_count": 313,
   "metadata": {
    "collapsed": false
   },
   "outputs": [
    {
     "name": "stdout",
     "output_type": "stream",
     "text": [
      "Training...\n",
      "Epoch 0\n",
      "7879/7879 [==============================] - 8s - loss: 0.2095 - acc.: 0.9491     \n",
      "Epoch 1\n",
      "7879/7879 [==============================] - 8s - loss: 0.1729 - acc.: 0.9490     \n",
      "Epoch 2\n",
      "7879/7879 [==============================] - 8s - loss: 0.1703 - acc.: 0.9491     \n",
      "Epoch 3\n",
      "7879/7879 [==============================] - 8s - loss: 0.1704 - acc.: 0.9491     \n",
      "Epoch 4\n",
      "7879/7879 [==============================] - 8s - loss: 0.1699 - acc.: 0.9492     \n",
      "Epoch 5\n",
      "7879/7879 [==============================] - 8s - loss: 0.1661 - acc.: 0.9492     \n",
      "Epoch 6\n",
      "7879/7879 [==============================] - 8s - loss: 0.1682 - acc.: 0.9490     \n",
      "Epoch 7\n",
      "7879/7879 [==============================] - 9s - loss: 0.1700 - acc.: 0.9491     \n",
      "Epoch 8\n",
      "7879/7879 [==============================] - 9s - loss: 0.1664 - acc.: 0.9490     \n",
      "Epoch 9\n",
      "7879/7879 [==============================] - 8s - loss: 0.1637 - acc.: 0.9490     \n"
     ]
    }
   ],
   "source": [
    "print(\"Training...\")\n",
    "model.fit(X_train, y_train, nb_epoch=10, batch_size=16, validation_split=0.0, show_accuracy=True, verbose=1)"
   ]
  },
  {
   "cell_type": "code",
   "execution_count": 314,
   "metadata": {
    "collapsed": false
   },
   "outputs": [],
   "source": [
    "preds = model.predict_classes(X_test, verbose=0)\n",
    "proba = model.predict_proba(X_test, verbose=0)"
   ]
  },
  {
   "cell_type": "code",
   "execution_count": 315,
   "metadata": {
    "collapsed": false
   },
   "outputs": [
    {
     "name": "stdout",
     "output_type": "stream",
     "text": [
      "0.942900647126\n",
      "             precision    recall  f1-score   support\n",
      "\n",
      "        0.0       0.94      1.00      0.97      2477\n",
      "        1.0       0.00      0.00      0.00       150\n",
      "\n",
      "avg / total       0.89      0.94      0.92      2627\n",
      "\n",
      "[[2477    0]\n",
      " [ 150    0]]\n",
      "0.843727627506\n"
     ]
    }
   ],
   "source": [
    "# accuracy\n",
    "matches = (preds == y_test[:,1])\n",
    "print matches.sum() / float(len(matches))\n",
    "\n",
    "# f1 score\n",
    "print classification_report( y_test[:,1], preds)\n",
    "\n",
    "# confusion matrix\n",
    "print confusion_matrix( y_test[:,1], preds)\n",
    "\n",
    "# auc\n",
    "print roc_auc_score(y_test[:,1], proba[:,1])"
   ]
  },
  {
   "cell_type": "code",
   "execution_count": 316,
   "metadata": {
    "collapsed": false
   },
   "outputs": [
    {
     "name": "stdout",
     "output_type": "stream",
     "text": [
      "Area under the ROC curve : 0.843728\n"
     ]
    },
    {
     "data": {
      "image/png": "[encoded data removed]",
      "text/plain": [
       "<matplotlib.figure.Figure at 0x33894a20>"
      ]
     },
     "metadata": {},
     "output_type": "display_data"
    }
   ],
   "source": [
    "#np.max(proba[:,1])\n",
    "# Compute ROC curve and area the curve\n",
    "fpr, tpr, thresholds = roc_curve(y_test[:,1], proba[:,1])\n",
    "roc_auc = auc(fpr, tpr)\n",
    "print \"Area under the ROC curve : %f\" % roc_auc\n",
    "\n",
    "# Plot ROC curve\n",
    "plt.clf()\n",
    "plt.plot(fpr, tpr, label='ROC curve (area = %0.2f)' % roc_auc)\n",
    "plt.plot([0, 1], [0, 1], 'k--')\n",
    "plt.xlim([0.0, 1.0])\n",
    "plt.ylim([0.0, 1.0])\n",
    "plt.xlabel('False Positive Rate')\n",
    "plt.ylabel('True Positive Rate')\n",
    "plt.title('Receiver operating characteristic example')\n",
    "plt.legend(loc=\"lower right\")\n",
    "plt.show()"
   ]
  },
  {
   "cell_type": "code",
   "execution_count": 294,
   "metadata": {
    "collapsed": false
   },
   "outputs": [
    {
     "name": "stdout",
     "output_type": "stream",
     "text": [
      "116293/116293 [==============================] - 3s     \n"
     ]
    }
   ],
   "source": [
    "proba = model.predict_proba(Xn_test)"
   ]
  },
  {
   "cell_type": "code",
   "execution_count": 295,
   "metadata": {
    "collapsed": false
   },
   "outputs": [],
   "source": [
    "st = datetime.datetime.fromtimestamp(time.time()).strftime('%Y%m%d_%H%M%S')\n",
    "\n",
    "def write_preds(proba, fname):\n",
    "    pd.DataFrame({\"Id\": list(range(1,len(proba)+1)), \"WnvPresent\": proba}).to_csv(fname, index=False, header=True)\n",
    "\n",
    "#write_preds(preds[range(28000)], \"keras-mlp_\" + st + \".csv\")\n",
    "write_preds(proba[:,1], \"../working/keras_test_\" + st + \".csv\")"
   ]
  },
  {
   "cell_type": "code",
   "execution_count": null,
   "metadata": {
    "collapsed": true
   },
   "outputs": [],
   "source": []
  }
 ],
 "metadata": {
  "kernelspec": {
   "display_name": "Python 2",
   "language": "python",
   "name": "python2"
  },
  "language_info": {
   "codemirror_mode": {
    "name": "ipython",
    "version": 2
   },
   "file_extension": ".py",
   "mimetype": "text/x-python",
   "name": "python",
   "nbconvert_exporter": "python",
   "pygments_lexer": "ipython2",
   "version": "2.7.9"
  }
 },
 "nbformat": 4,
 "nbformat_minor": 0
}

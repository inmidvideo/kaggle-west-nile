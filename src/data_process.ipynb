{
 "cells": [
  {
   "cell_type": "code",
   "execution_count": 388,
   "metadata": {
    "collapsed": false
   },
   "outputs": [
    {
     "name": "stdout",
     "output_type": "stream",
     "text": [
      "Populating the interactive namespace from numpy and matplotlib\n"
     ]
    },
    {
     "name": "stderr",
     "output_type": "stream",
     "text": [
      "WARNING: pylab import has clobbered these variables: ['datetime', 'test']\n",
      "`%matplotlib` prevents importing * from pylab and numpy\n"
     ]
    }
   ],
   "source": [
    "%pylab inline\n",
    "\n",
    "import pandas as pd\n",
    "import numpy as np\n",
    "\n",
    "# for calculating accurate distances betwen lat/long points\n",
    "#from geopy.distance import vincenty\n",
    "\n",
    "from calendar import monthrange\n",
    "from datetime import datetime, date, timedelta\n",
    "\n",
    "from sklearn.preprocessing import LabelEncoder, LabelBinarizer\n",
    "#from itertools import chain\n",
    "\n",
    "from astral import Astral"
   ]
  },
  {
   "cell_type": "code",
   "execution_count": 389,
   "metadata": {
    "collapsed": false
   },
   "outputs": [],
   "source": [
    "date_parser = lambda x: datetime.strptime(x, \"%Y-%m-%d\")\n",
    "\n",
    "train = pd.read_csv('../input/train.csv', parse_dates=['Date'], date_parser=date_parser)[['Date', 'Address', 'Species', 'Block', 'Street', 'Trap', 'AddressNumberAndStreet', 'Latitude', 'Longitude', 'AddressAccuracy', 'NumMosquitos', 'WnvPresent']]\n",
    "test = pd.read_csv('../input/test.csv',  parse_dates=['Date'], date_parser=date_parser)[['Id', 'Date', 'Address', 'Species', 'Block', 'Street', 'Trap', 'AddressNumberAndStreet', 'Latitude', 'Longitude', 'AddressAccuracy']]\n",
    "\n",
    "weather = pd.read_csv('../input/weather.csv', index_col=1, parse_dates=['Date'], date_parser=date_parser)[['Station', 'Tmax', 'Tmin', 'Tavg', 'Depart', 'DewPoint', 'WetBulb', 'Heat', 'Cool', 'Depth', 'Water1', 'SnowFall', 'PrecipTotal', 'StnPressure', 'SeaLevel', 'ResultSpeed', 'ResultDir', 'AvgSpeed']]"
   ]
  },
  {
   "cell_type": "code",
   "execution_count": 391,
   "metadata": {
    "collapsed": false
   },
   "outputs": [],
   "source": [
    "# weather processing\n",
    "#weather_codes = np.unique(list(chain(*weather.CodeSum.str.split().tolist())))\n",
    "\n",
    "# replace letters, combine stations\n",
    "weather.replace('[a-zA-Z]', 0, regex=True, inplace=True)\n",
    "weather_merged = pd.merge(weather[weather.Station == 1], weather[weather.Station == 2], left_index=True, right_index=True, suffixes=['_1', '_2'])\n",
    "weather_merged.drop(weather_merged.filter(regex='Station').columns, axis=1, inplace=True)\n",
    "\n",
    "# add merged weather"
   ]
  },
  {
   "cell_type": "code",
   "execution_count": 475,
   "metadata": {
    "collapsed": false
   },
   "outputs": [
    {
     "name": "stdout",
     "output_type": "stream",
     "text": [
      "US/Central\n",
      "11\n",
      "           MoonPhase      Dawn   Sunrise      Noon    Sunset      Dusk\n",
      "Date                                                                  \n",
      "2007-05-01        13  5.271389  5.777778  12.79722  19.81556  20.32167\n",
      "2007-05-02        14  5.247778  5.755833  12.79528  19.83361  20.34139\n",
      "2007-05-03        14  5.224444  5.734167  12.79333  19.85167  20.36139\n",
      "2007-05-04        15  5.201667  5.713056  12.79194  19.86972  20.38111\n",
      "2007-05-05        16  5.179167  5.692222  12.79028  19.88778  20.40083\n",
      "2007-05-06        17  5.156944  5.671944  12.78917  19.90556  20.42056\n",
      "2007-05-07        18     5.135  5.651667  12.78778  19.92333     20.44\n",
      "2007-05-08        19  5.113611  5.632222  12.78694  19.94111  20.45972\n",
      "2007-05-09        20  5.092778  5.612778  12.78611  19.95889  20.47917\n",
      "2007-05-10        21  5.071944  5.594167  12.78528  19.97639  20.49833\n",
      "2007-05-11        22  5.051944  5.575556    12.785  19.99389  20.51778\n",
      "2007-05-12        23  5.031944  5.557778  12.78444  20.01111  20.53694\n",
      "2007-05-13        24  5.012778      5.54  12.78444  20.02833  20.55583\n",
      "2007-05-14        25  4.993889  5.523056  12.78417  20.04556  20.57472\n",
      "2007-05-15        26  4.975278  5.506389  12.78444   20.0625  20.59361\n",
      "2007-05-16        27    4.9575  5.490278  12.78472  20.07944  20.61222\n",
      "2007-05-17         0      4.94  5.474444    12.785  20.09583  20.63056\n",
      "2007-05-18         1  4.923056  5.459444  12.78556   20.1125  20.64889\n",
      "2007-05-19         2  4.906389  5.444722  12.78639  20.12861  20.66667\n",
      "2007-05-20         3  4.890556  5.430278  12.78722  20.14472  20.68472\n",
      "2007-05-21         4     4.875  5.416667  12.78833  20.16083  20.70222\n",
      "2007-05-22         5  4.860278  5.403333  12.78944  20.17639  20.71972\n",
      "2007-05-23         6  4.845833  5.390833  12.79083  20.19194  20.73667\n",
      "2007-05-24         7  4.831944  5.378611  12.79222  20.20694  20.75361\n",
      "2007-05-25         8  4.818611  5.366944  12.79389  20.22194  20.77028\n",
      "2007-05-26         9  4.806111  5.355833  12.79556  20.23667  20.78639\n",
      "2007-05-27        10  4.793889  5.345278   12.7975  20.25111   20.8025\n",
      "2007-05-28        11  4.782222  5.335278  12.79944  20.26528  20.81806\n",
      "2007-05-29        11  4.771389  5.325833  12.80167  20.27917  20.83333\n",
      "2007-05-30        12  4.761111  5.316944  12.80389   20.2925  20.84833\n",
      "...              ...       ...       ...       ...       ...       ...\n",
      "2014-10-02         7  6.357778  6.820556  12.66694  18.51111  18.97389\n",
      "2014-10-03         8  6.375556  6.838611  12.66194  18.48278  18.94556\n",
      "2014-10-04         9  6.393333  6.856389  12.65667  18.45444   18.9175\n",
      "2014-10-05        10  6.411111  6.874444  12.65167  18.42639  18.88972\n",
      "2014-10-06        11  6.428889    6.8925  12.64667  18.39833  18.86194\n",
      "2014-10-07        12  6.446944  6.910833  12.64167  18.37056  18.83444\n",
      "2014-10-08        13  6.464722  6.929167  12.63694  18.34278  18.80722\n",
      "2014-10-09        15  6.482778    6.9475   12.6325  18.31528     18.78\n",
      "2014-10-10        16  6.500556  6.965833  12.62778  18.28806  18.75306\n",
      "2014-10-11        17  6.518611  6.984444  12.62361  18.26083  18.72639\n",
      "2014-10-12        18  6.536944  7.003056  12.61944  18.23389      18.7\n",
      "2014-10-13        19     6.555  7.021667  12.61528  18.20694  18.67361\n",
      "2014-10-14        19  6.573056  7.040278  12.61139  18.18056  18.64778\n",
      "2014-10-15        20  6.591389  7.059167   12.6075  18.15417  18.62194\n",
      "2014-10-16        21  6.609722  7.078333  12.60389  18.12806  18.59639\n",
      "2014-10-17        22  6.628056  7.097222  12.60028  18.10194  18.57111\n",
      "2014-10-18        23  6.646667  7.116389  12.59722  18.07639  18.54639\n",
      "2014-10-19        24     6.665  7.135556  12.59389  18.05111  18.52167\n",
      "2014-10-20        25  6.683611     7.155  12.59111  18.02583  18.49722\n",
      "2014-10-21        25  6.702222  7.174444  12.58833  18.00111  18.47333\n",
      "2014-10-22        26  6.720833  7.193889  12.58556  17.97639  18.44944\n",
      "2014-10-23        27  6.739444  7.213333  12.58333  17.95222  18.42611\n",
      "2014-10-24         0  6.758333  7.233056  12.58111  17.92833  18.40306\n",
      "2014-10-25         1  6.777222  7.252778  12.57917  17.90472  18.38028\n",
      "2014-10-26         2  6.796111    7.2725  12.57722  17.88139  18.35806\n",
      "2014-10-27         3     6.815    7.2925  12.57583  17.85833  18.33583\n",
      "2014-10-28         4  6.833889    7.3125  12.57444  17.83583  18.31417\n",
      "2014-10-29         5  6.853056    7.3325  12.57333  17.81361  18.29306\n",
      "2014-10-30         6  6.871944    7.3525  12.57222  17.79167  18.27222\n",
      "2014-10-31         7  6.891111  7.372778  12.57167     17.77  18.25167\n",
      "\n",
      "[1472 rows x 6 columns]\n"
     ]
    }
   ],
   "source": [
    "# astral\n",
    "city_name = 'Chicago'\n",
    "a = Astral()\n",
    "a.solar_depression = 'civil'\n",
    "city = a[city_name]\n",
    "print city.tz\n",
    "\n",
    "astral_df = pd.DataFrame(index=weather_merged.index, columns=['MoonPhase', 'Dawn', 'Sunrise', 'Noon', 'Sunset', 'Dusk'])\n",
    "for date in astral_df.index:\n",
    "    sun = city.sun(date=date, local=True)\n",
    "    dawn = (sun['dawn'] - city.tz.localize(date)).total_seconds()/3600.0\n",
    "    sunrise = (sun['sunrise'] - city.tz.localize(date)).total_seconds()/3600.0\n",
    "    noon = (sun['noon'] - city.tz.localize(date)).total_seconds()/3600.0\n",
    "    sunset = (sun['sunset'] - city.tz.localize(date)).total_seconds()/3600.0\n",
    "    dusk = (sun['dusk'] - city.tz.localize(date)).total_seconds()/3600.0\n",
    "    astral_df.ix[date] = [city.moon_phase(date=date), dawn, sunrise, noon, sunset, dusk]\n",
    "\n",
    "#sun = city.sun(date=train.Date[0], local=True)\n",
    "#sunrise_delta = sun['sunrise'] - city.tz.localize(train.Date[0])\n",
    "#print sunrise_delta.total_seconds()/3600.0\n",
    "\n",
    "moon_phase = city.moon_phase(date=train.Date[0])\n",
    "print moon_phase\n",
    "\n",
    "print astral_df"
   ]
  },
  {
   "cell_type": "code",
   "execution_count": 476,
   "metadata": {
    "collapsed": false
   },
   "outputs": [
    {
     "data": {
      "text/plain": [
       "LabelEncoder()"
      ]
     },
     "execution_count": 476,
     "metadata": {},
     "output_type": "execute_result"
    }
   ],
   "source": [
    "# species\n",
    "#species = pd.get_dummies(train.Species)\n",
    "#train[species.columns] = species\n",
    "#train.drop('Species', axis=1, inplace=True)\n",
    "\n",
    "species_lb = LabelBinarizer()\n",
    "species_lb.fit(list(train['Species'].values) + list(test['Species'].values))\n",
    "species_list = species_lb.classes_.tolist()\n",
    "#print species_lb.transform(train['Species'].values)\n",
    "\n",
    "species_le = LabelEncoder()\n",
    "species_le.fit(list(train['Species'].values) + list(test['Species'].values))"
   ]
  },
  {
   "cell_type": "code",
   "execution_count": 477,
   "metadata": {
    "collapsed": false
   },
   "outputs": [
    {
     "data": {
      "text/plain": [
       "LabelEncoder()"
      ]
     },
     "execution_count": 477,
     "metadata": {},
     "output_type": "execute_result"
    }
   ],
   "source": [
    "# encode trap values\n",
    "trap_le = LabelEncoder()\n",
    "trap_le.fit(list(train['Trap'].values) + list(test['Trap'].values))"
   ]
  },
  {
   "cell_type": "code",
   "execution_count": 478,
   "metadata": {
    "collapsed": false
   },
   "outputs": [],
   "source": [
    "# function for generating features\n",
    "def gen_features(data):\n",
    "    # start with empty dataframe\n",
    "    x = pd.DataFrame(index=data.index)\n",
    "    \n",
    "    # add date\n",
    "    x['Date'] = data['Date']\n",
    "    x['DayOfWeek'] = data.Date.apply(lambda x: x.weekday())\n",
    "    x['DayOfMonth'] = data.Date.apply(lambda x: x.day)\n",
    "    x['DayOfYear'] = data.Date.apply(lambda x: x.timetuple().tm_yday)\n",
    "    \n",
    "    # add location\n",
    "    x[['Latitude', 'Longitude']] = data[['Latitude', 'Longitude']]\n",
    "    x['AddressAccuracy'] = data['AddressAccuracy']\n",
    "    x['Trap'] = trap_le.transform(data['Trap'].values)\n",
    "    \n",
    "    # add species\n",
    "    x[species_list] = pd.DataFrame(species_lb.transform(data['Species'].values), index=data.index, columns=species_list)\n",
    "    #x['Species'] = species_le.transform(data['Species'].values)\n",
    "    \n",
    "    # merge astral\n",
    "    x_merged = pd.merge(x, astral_df, left_on='Date', right_index=True)\n",
    "    \n",
    "    # merge weather\n",
    "    x_merged = pd.merge(x_merged, weather_merged, left_on='Date', right_index=True)\n",
    "    x_merged.drop('Date', axis=1, inplace=True)\n",
    "    \n",
    "    return x_merged"
   ]
  },
  {
   "cell_type": "code",
   "execution_count": null,
   "metadata": {
    "collapsed": false
   },
   "outputs": [],
   "source": []
  },
  {
   "cell_type": "code",
   "execution_count": 479,
   "metadata": {
    "collapsed": false
   },
   "outputs": [],
   "source": [
    "# get train and test data\n",
    "X_train = gen_features(train)\n",
    "X_train['WnvPresent'] = train['WnvPresent']\n",
    "X_test = gen_features(test)"
   ]
  },
  {
   "cell_type": "code",
   "execution_count": 480,
   "metadata": {
    "collapsed": true
   },
   "outputs": [],
   "source": [
    "# output to csv\n",
    "X_train.to_csv('../working/train_f.csv')\n",
    "X_test.to_csv('../working/test_f.csv')"
   ]
  },
  {
   "cell_type": "code",
   "execution_count": null,
   "metadata": {
    "collapsed": true
   },
   "outputs": [],
   "source": []
  }
 ],
 "metadata": {
  "kernelspec": {
   "display_name": "Python 2",
   "language": "python",
   "name": "python2"
  },
  "language_info": {
   "codemirror_mode": {
    "name": "ipython",
    "version": 2
   },
   "file_extension": ".py",
   "mimetype": "text/x-python",
   "name": "python",
   "nbconvert_exporter": "python",
   "pygments_lexer": "ipython2",
   "version": "2.7.9"
  }
 },
 "nbformat": 4,
 "nbformat_minor": 0
}

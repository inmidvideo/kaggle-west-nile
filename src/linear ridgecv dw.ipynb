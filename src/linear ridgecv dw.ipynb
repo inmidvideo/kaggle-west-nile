{
 "cells": [
  {
   "cell_type": "code",
   "execution_count": 24,
   "metadata": {
    "collapsed": false
   },
   "outputs": [
    {
     "name": "stdout",
     "output_type": "stream",
     "text": [
      "Populating the interactive namespace from numpy and matplotlib\n",
      "2015-05-29 19:50:08 clock set\n"
     ]
    },
    {
     "name": "stderr",
     "output_type": "stream",
     "text": [
      "WARNING: pylab import has clobbered these variables: ['f', 'random', 'datetime', 'clf', 'test']\n",
      "`%matplotlib` prevents importing * from pylab and numpy\n"
     ]
    }
   ],
   "source": [
    "%pylab inline\n",
    "\n",
    "from __future__ import division\n",
    "from time import strftime\n",
    "from calendar import monthrange\n",
    "from datetime import datetime, date, timedelta\n",
    "print strftime('%Y-%m-%d %X'), 'clock set'\n",
    "import random\n",
    "import pandas as pd\n",
    "import numpy as np\n",
    "\n",
    "from sklearn.cross_validation import train_test_split\n",
    "from sklearn.metrics import roc_curve, auc, classification_report, confusion_matrix, roc_auc_score\n",
    "from sklearn.preprocessing import LabelEncoder, LabelBinarizer, scale\n",
    "from sklearn import svm, linear_model, neighbors\n",
    "from sklearn.grid_search import GridSearchCV\n",
    "from sklearn.ensemble import ExtraTreesRegressor"
   ]
  },
  {
   "cell_type": "code",
   "execution_count": 2,
   "metadata": {
    "collapsed": false
   },
   "outputs": [
    {
     "name": "stdout",
     "output_type": "stream",
     "text": [
      "(10506, 6)\n"
     ]
    }
   ],
   "source": [
    "date_parser = lambda x: datetime.strptime(x, \"%Y-%m-%d\")\n",
    "train = pd.read_csv('../input/train.csv', parse_dates=['Date'], date_parser=date_parser)[['Date', 'Species', 'Latitude', 'Longitude', 'WnvPresent']]\n",
    "train['Week'] = map(lambda x: x.week, train['Date'])\n",
    "print train.shape"
   ]
  },
  {
   "cell_type": "code",
   "execution_count": 3,
   "metadata": {
    "collapsed": true
   },
   "outputs": [],
   "source": [
    "weather = pd.read_csv('../input/weather.csv', na_values={'Tavg': 'M'}, parse_dates=['Date'], date_parser=date_parser)[['Date', 'Station', 'Tmax', 'Tmin', 'Tavg']]"
   ]
  },
  {
   "cell_type": "code",
   "execution_count": 4,
   "metadata": {
    "collapsed": false
   },
   "outputs": [],
   "source": [
    "weatherDates = weather.groupby('Date')['Tmax', 'Tavg'].mean().reset_index()"
   ]
  },
  {
   "cell_type": "code",
   "execution_count": 5,
   "metadata": {
    "collapsed": true
   },
   "outputs": [],
   "source": [
    "weatherDates['3avg'] = pd.rolling_mean(weatherDates['Tavg'], 3)\n",
    "weatherDates['7avg'] = pd.rolling_mean(weatherDates['Tavg'], 7)\n",
    "weatherDates['14avg'] = pd.rolling_mean(weatherDates['Tavg'], 14)\n",
    "keepDates = map(lambda x: x.month != 5 or x.day >= 14, weatherDates['Date'])\n",
    "weatherDates = weatherDates[keepDates]"
   ]
  },
  {
   "cell_type": "code",
   "execution_count": 6,
   "metadata": {
    "collapsed": false
   },
   "outputs": [],
   "source": [
    "weatherTrain = pd.merge(train, weatherDates, how='left', on=['Date'])"
   ]
  },
  {
   "cell_type": "code",
   "execution_count": 7,
   "metadata": {
    "collapsed": true
   },
   "outputs": [],
   "source": [
    "weatherTrain['AntiWeek'] = weatherTrain['Week'] * (52 - weatherTrain['Week'])\n",
    "weatherTrain['Area'] = scale(weatherTrain['Latitude'] * weatherTrain['Longitude'])"
   ]
  },
  {
   "cell_type": "code",
   "execution_count": 8,
   "metadata": {
    "collapsed": false
   },
   "outputs": [],
   "source": [
    "# does this matter? not checked yet\n",
    "weatherTrain['Latitude'] = scale(weatherTrain['Latitude'])\n",
    "weatherTrain['Longitude'] = scale(weatherTrain['Longitude'])\n",
    "weatherTrain['Tmax'] = scale(map(float, weatherTrain['Tmax']))\n",
    "weatherTrain['Tavg'] = scale(map(float, weatherTrain['Tavg']))\n",
    "weatherTrain['3avg'] = scale(map(float, weatherTrain['3avg']))\n",
    "weatherTrain['7avg'] = scale(map(float, weatherTrain['7avg']))\n",
    "weatherTrain['14avg'] = scale(map(float, weatherTrain['14avg']))\n",
    "weatherTrain['Week'] = scale(map(float, weatherTrain['Week']))\n",
    "weatherTrain['Area'] = scale(map(float, weatherTrain['Area']))\n",
    "weatherTrain['AntiWeek'] = scale(map(float, weatherTrain['AntiWeek']))\n",
    "\n"
   ]
  },
  {
   "cell_type": "code",
   "execution_count": 23,
   "metadata": {
    "collapsed": false
   },
   "outputs": [
    {
     "data": {
      "text/plain": [
       "Date             2007-05-29 00:00:00\n",
       "Species       CULEX PIPIENS/RESTUANS\n",
       "Latitude                    1.007225\n",
       "Longitude                  -1.047388\n",
       "WnvPresent                         0\n",
       "Week                       -2.140018\n",
       "Tmax                        0.735332\n",
       "Tavg                       0.3319731\n",
       "3avg                      -0.5708531\n",
       "7avg                      -0.6346232\n",
       "14avg                      -1.572507\n",
       "AntiWeek                   0.6714913\n",
       "Area                        -1.08812\n",
       "Name: 0, dtype: object"
      ]
     },
     "execution_count": 23,
     "metadata": {},
     "output_type": "execute_result"
    }
   ],
   "source": [
    "weatherTrain.iloc[0]"
   ]
  },
  {
   "cell_type": "code",
   "execution_count": 9,
   "metadata": {
    "collapsed": false
   },
   "outputs": [
    {
     "name": "stdout",
     "output_type": "stream",
     "text": [
      "10506\n"
     ]
    }
   ],
   "source": [
    "mask = np.random.rand(len(weatherTrain)) < 2\n",
    "trainMini = weatherTrain[mask]\n",
    "print len(trainMini)"
   ]
  },
  {
   "cell_type": "code",
   "execution_count": 26,
   "metadata": {
    "collapsed": false
   },
   "outputs": [
    {
     "data": {
      "text/plain": [
       "ExtraTreesRegressor(bootstrap=False, compute_importances=None,\n",
       "          criterion='mse', max_depth=None, max_features='auto',\n",
       "          max_leaf_nodes=None, min_density=None, min_samples_leaf=1,\n",
       "          min_samples_split=2, n_estimators=5000, n_jobs=3,\n",
       "          oob_score=False, random_state=None, verbose=0)"
      ]
     },
     "execution_count": 26,
     "metadata": {},
     "output_type": "execute_result"
    }
   ],
   "source": [
    "#clf = linear_model.RidgeCV(alphas=[0.1, 1.0, 10.0]) # try scoring='roc_auc'\n",
    "clf = ExtraTreesRegressor(n_estimators=5000, n_jobs=3)\n",
    "clf.fit(trainMini[['Week', 'AntiWeek', 'Latitude', 'Longitude', 'Area', 'Tavg', 'Tmax', '3avg', '7avg', '14avg']], trainMini['WnvPresent'])"
   ]
  },
  {
   "cell_type": "code",
   "execution_count": 27,
   "metadata": {
    "collapsed": false
   },
   "outputs": [],
   "source": [
    "Z = clf.predict(trainMini[['Week', 'AntiWeek', 'Latitude', 'Longitude', 'Area', 'Tavg', 'Tmax', '3avg', '7avg', '14avg']])"
   ]
  },
  {
   "cell_type": "code",
   "execution_count": 28,
   "metadata": {
    "collapsed": false
   },
   "outputs": [
    {
     "name": "stdout",
     "output_type": "stream",
     "text": [
      "0.974354923836\n"
     ]
    },
    {
     "data": {
      "text/plain": [
       "[<matplotlib.lines.Line2D at 0x1c224748>]"
      ]
     },
     "execution_count": 28,
     "metadata": {},
     "output_type": "execute_result"
    },
    {
     "data": {
      "image/png": "[encoded data removed]",
      "text/plain": [
       "<matplotlib.figure.Figure at 0x1c7986d8>"
      ]
     },
     "metadata": {},
     "output_type": "display_data"
    }
   ],
   "source": [
    "plt.xlim([0.0, 1.0])\n",
    "plt.ylim([0.0, 1.0])\n",
    "fpr, tpr, thresholds = roc_curve(trainMini['WnvPresent'], Z)\n",
    "print auc(fpr, tpr)\n",
    "plt.plot(fpr, tpr)"
   ]
  },
  {
   "cell_type": "code",
   "execution_count": 31,
   "metadata": {
    "collapsed": false
   },
   "outputs": [
    {
     "name": "stdout",
     "output_type": "stream",
     "text": [
      "Feature ranking:\n",
      "1. Longitude (0.244507)\n",
      "2. Area (0.229392)\n",
      "3. Latitude (0.206190)\n",
      "4. 14avg (0.066513)\n",
      "5. Week (0.062113)\n",
      "6. AntiWeek (0.057380)\n",
      "7. 7avg (0.037008)\n",
      "8. Tmax (0.035023)\n",
      "9. 3avg (0.031375)\n",
      "10. Tavg (0.030499)\n"
     ]
    }
   ],
   "source": [
    "f_names = ['Week', 'AntiWeek', 'Latitude', 'Longitude', 'Area', 'Tavg', 'Tmax', '3avg', '7avg', '14avg']\n",
    "importances = clf.feature_importances_\n",
    "std = np.std([tree.feature_importances_ for tree in clf.estimators_],\n",
    "             axis=0)\n",
    "indices = np.argsort(importances)[::-1]\n",
    "\n",
    "# Print the feature ranking\n",
    "print(\"Feature ranking:\")\n",
    "\n",
    "for f in range(len(f_names)):\n",
    "#for f in range(15):\n",
    "    print(\"%d. %s (%f)\" % (f + 1, f_names[indices[f]], importances[indices[f]]))"
   ]
  },
  {
   "cell_type": "code",
   "execution_count": 32,
   "metadata": {
    "collapsed": false
   },
   "outputs": [
    {
     "name": "stdout",
     "output_type": "stream",
     "text": [
      "2015-05-29 19:53:12 clock set\n"
     ]
    }
   ],
   "source": [
    "print strftime('%Y-%m-%d %X'), 'clock set'\n",
    "test = pd.read_csv('../input/test.csv', parse_dates=['Date'], date_parser=date_parser)[['Date', 'Species', 'Latitude', 'Longitude']]\n",
    "test['Week'] = map(lambda x: x.week, test['Date'])\n",
    "weatherTest = pd.merge(test, weatherDates, how='left', on=['Date'])"
   ]
  },
  {
   "cell_type": "code",
   "execution_count": 33,
   "metadata": {
    "collapsed": true
   },
   "outputs": [],
   "source": [
    "weatherTest['AntiWeek'] = weatherTest['Week'] * (52 - weatherTest['Week'])\n",
    "weatherTest['Area'] = scale(weatherTest['Latitude'] * weatherTest['Longitude'])"
   ]
  },
  {
   "cell_type": "code",
   "execution_count": 34,
   "metadata": {
    "collapsed": true
   },
   "outputs": [],
   "source": [
    "# does this matter? not checked yet\n",
    "weatherTest['Latitude'] = scale(weatherTest['Latitude'])\n",
    "weatherTest['Longitude'] = scale(weatherTest['Longitude'])\n",
    "weatherTest['Tmax'] = scale(map(float, weatherTest['Tmax']))\n",
    "weatherTest['Tavg'] = scale(map(float, weatherTest['Tavg']))\n",
    "weatherTest['3avg'] = scale(map(float, weatherTest['3avg']))\n",
    "weatherTest['7avg'] = scale(map(float, weatherTest['7avg']))\n",
    "weatherTest['14avg'] = scale(map(float, weatherTest['14avg']))\n",
    "weatherTest['Week'] = scale(map(float, weatherTest['Week']))\n",
    "weatherTest['Area'] = scale(map(float, weatherTest['Area']))\n",
    "weatherTest['AntiWeek'] = scale(map(float, weatherTest['AntiWeek']))\n",
    "\n"
   ]
  },
  {
   "cell_type": "code",
   "execution_count": 35,
   "metadata": {
    "collapsed": true
   },
   "outputs": [],
   "source": [
    "Z_test = clf.predict(weatherTest[['Week', 'AntiWeek', 'Latitude', 'Longitude', 'Area', 'Tavg', 'Tmax', '3avg', '7avg', '14avg']])"
   ]
  },
  {
   "cell_type": "code",
   "execution_count": 36,
   "metadata": {
    "collapsed": false
   },
   "outputs": [
    {
     "name": "stdout",
     "output_type": "stream",
     "text": [
      "0.0 0.561674047619\n"
     ]
    }
   ],
   "source": [
    "print min(Z_test), max(Z_test)\n",
    "# these values are not all between 0 and 1"
   ]
  },
  {
   "cell_type": "code",
   "execution_count": 37,
   "metadata": {
    "collapsed": false
   },
   "outputs": [],
   "source": [
    "Z_test = Z_test + 0.1"
   ]
  },
  {
   "cell_type": "code",
   "execution_count": 38,
   "metadata": {
    "collapsed": false
   },
   "outputs": [
    {
     "name": "stdout",
     "output_type": "stream",
     "text": [
      "0.1 0.661674047619\n"
     ]
    }
   ],
   "source": [
    "print min(Z_test), max(Z_test)\n",
    "# these values are not all between 0 and 1"
   ]
  },
  {
   "cell_type": "code",
   "execution_count": 39,
   "metadata": {
    "collapsed": false
   },
   "outputs": [],
   "source": [
    "with open('../working/ridgecv.csv', 'w') as f:\n",
    "    f.write('Id,WnvPresent\\n')\n",
    "    for i in xrange(1, 116293 + 1):\n",
    "        f.write(str(i) + ',' + str(Z_test[i - 1]) + '\\n')"
   ]
  },
  {
   "cell_type": "code",
   "execution_count": null,
   "metadata": {
    "collapsed": true
   },
   "outputs": [],
   "source": []
  }
 ],
 "metadata": {
  "kernelspec": {
   "display_name": "Python 2",
   "language": "python",
   "name": "python2"
  },
  "language_info": {
   "codemirror_mode": {
    "name": "ipython",
    "version": 2
   },
   "file_extension": ".py",
   "mimetype": "text/x-python",
   "name": "python",
   "nbconvert_exporter": "python",
   "pygments_lexer": "ipython2",
   "version": "2.7.9"
  }
 },
 "nbformat": 4,
 "nbformat_minor": 0
}

{
 "cells": [
  {
   "cell_type": "code",
   "execution_count": 1,
   "metadata": {
    "collapsed": false
   },
   "outputs": [
    {
     "name": "stdout",
     "output_type": "stream",
     "text": [
      "Populating the interactive namespace from numpy and matplotlib\n",
      "2015-05-30 02:26:18 clock set\n"
     ]
    }
   ],
   "source": [
    "%pylab inline\n",
    "\n",
    "from __future__ import division\n",
    "from time import strftime\n",
    "from calendar import monthrange\n",
    "from datetime import datetime, date, timedelta\n",
    "print strftime('%Y-%m-%d %X'), 'clock set'\n",
    "import random\n",
    "import pandas as pd\n",
    "import numpy as np\n",
    "\n",
    "from sklearn.cross_validation import train_test_split\n",
    "from sklearn.metrics import roc_curve, auc, classification_report, confusion_matrix, roc_auc_score\n",
    "from sklearn.preprocessing import LabelEncoder, LabelBinarizer, scale\n",
    "from sklearn import svm, linear_model, neighbors\n",
    "from sklearn.grid_search import GridSearchCV"
   ]
  },
  {
   "cell_type": "code",
   "execution_count": 2,
   "metadata": {
    "collapsed": false
   },
   "outputs": [
    {
     "name": "stdout",
     "output_type": "stream",
     "text": [
      "(10506, 6)\n"
     ]
    }
   ],
   "source": [
    "date_parser = lambda x: datetime.strptime(x, \"%Y-%m-%d\")\n",
    "train = pd.read_csv('../input/train.csv', parse_dates=['Date'], date_parser=date_parser)[['Date', 'Species', 'Latitude', 'Longitude', 'WnvPresent']]\n",
    "train['Week'] = map(lambda x: x.week, train['Date'])\n",
    "print train.shape"
   ]
  },
  {
   "cell_type": "code",
   "execution_count": 3,
   "metadata": {
    "collapsed": true
   },
   "outputs": [],
   "source": [
    "weather = pd.read_csv('../input/weather.csv', na_values={'Tavg': 'M'}, parse_dates=['Date'], date_parser=date_parser)[['Date', 'Station', 'Tmax', 'Tmin', 'Tavg']]"
   ]
  },
  {
   "cell_type": "code",
   "execution_count": 4,
   "metadata": {
    "collapsed": false
   },
   "outputs": [],
   "source": [
    "weatherDates = weather.groupby('Date')['Tmax', 'Tavg'].mean().reset_index()"
   ]
  },
  {
   "cell_type": "code",
   "execution_count": 5,
   "metadata": {
    "collapsed": true
   },
   "outputs": [],
   "source": [
    "weatherDates['3avg'] = pd.rolling_mean(weatherDates['Tavg'], 3)\n",
    "weatherDates['7avg'] = pd.rolling_mean(weatherDates['Tavg'], 7)\n",
    "weatherDates['14avg'] = pd.rolling_mean(weatherDates['Tavg'], 14)\n",
    "keepDates = map(lambda x: x.month != 5 or x.day >= 14, weatherDates['Date'])\n",
    "weatherDates = weatherDates[keepDates]"
   ]
  },
  {
   "cell_type": "code",
   "execution_count": 6,
   "metadata": {
    "collapsed": false
   },
   "outputs": [],
   "source": [
    "weatherTrain = pd.merge(train, weatherDates, how='left', on=['Date'])"
   ]
  },
  {
   "cell_type": "code",
   "execution_count": 7,
   "metadata": {
    "collapsed": true
   },
   "outputs": [],
   "source": [
    "weatherTrain['AntiWeek'] = weatherTrain['Week'] * (52 - weatherTrain['Week'])\n",
    "weatherTrain['Area'] = scale(weatherTrain['Latitude'] * weatherTrain['Longitude'])"
   ]
  },
  {
   "cell_type": "code",
   "execution_count": 8,
   "metadata": {
    "collapsed": false
   },
   "outputs": [],
   "source": [
    "# does this matter? not checked yet\n",
    "weatherTrain['Latitude'] = scale(weatherTrain['Latitude'])\n",
    "weatherTrain['Longitude'] = scale(weatherTrain['Longitude'])\n",
    "weatherTrain['Tmax'] = scale(map(float, weatherTrain['Tmax']))\n",
    "weatherTrain['Tavg'] = scale(map(float, weatherTrain['Tavg']))\n",
    "weatherTrain['3avg'] = scale(map(float, weatherTrain['3avg']))\n",
    "weatherTrain['7avg'] = scale(map(float, weatherTrain['7avg']))\n",
    "weatherTrain['14avg'] = scale(map(float, weatherTrain['14avg']))\n",
    "weatherTrain['Week'] = scale(map(float, weatherTrain['Week']))\n",
    "weatherTrain['Area'] = scale(map(float, weatherTrain['Area']))\n",
    "weatherTrain['AntiWeek'] = scale(map(float, weatherTrain['AntiWeek']))\n",
    "\n"
   ]
  },
  {
   "cell_type": "code",
   "execution_count": 9,
   "metadata": {
    "collapsed": false
   },
   "outputs": [
    {
     "name": "stdout",
     "output_type": "stream",
     "text": [
      "10506\n"
     ]
    }
   ],
   "source": [
    "mask = np.random.rand(len(weatherTrain)) < 2\n",
    "trainMini = weatherTrain[mask]\n",
    "print len(trainMini)"
   ]
  },
  {
   "cell_type": "code",
   "execution_count": 10,
   "metadata": {
    "collapsed": false
   },
   "outputs": [
    {
     "data": {
      "text/plain": [
       "RidgeCV(alphas=[0.1, 1.0, 10.0], cv=None, fit_intercept=True, gcv_mode=None,\n",
       "    loss_func=None, normalize=False, score_func=None, scoring=None,\n",
       "    store_cv_values=False)"
      ]
     },
     "execution_count": 10,
     "metadata": {},
     "output_type": "execute_result"
    }
   ],
   "source": [
    "clf = linear_model.RidgeCV(alphas=[0.1, 1.0, 10.0]) # try scoring='roc_auc'\n",
    "clf.fit(trainMini[['Week', 'AntiWeek', 'Latitude', 'Longitude', 'Area', 'Tavg', 'Tmax', '3avg', '7avg', '14avg']], trainMini['WnvPresent'])"
   ]
  },
  {
   "cell_type": "code",
   "execution_count": 11,
   "metadata": {
    "collapsed": false
   },
   "outputs": [],
   "source": [
    "Z = clf.predict(trainMini[['Week', 'AntiWeek', 'Latitude', 'Longitude', 'Area', 'Tavg', 'Tmax', '3avg', '7avg', '14avg']])"
   ]
  },
  {
   "cell_type": "code",
   "execution_count": 12,
   "metadata": {
    "collapsed": false
   },
   "outputs": [
    {
     "name": "stdout",
     "output_type": "stream",
     "text": [
      "0.76202976917\n"
     ]
    },
    {
     "data": {
      "text/plain": [
       "[<matplotlib.lines.Line2D at 0x104570c90>]"
      ]
     },
     "execution_count": 12,
     "metadata": {},
     "output_type": "execute_result"
    },
    {
     "data": {
      "image/png": "[encoded data removed]",
      "text/plain": [
       "<matplotlib.figure.Figure at 0x10a1248d0>"
      ]
     },
     "metadata": {},
     "output_type": "display_data"
    }
   ],
   "source": [
    "plt.xlim([0.0, 1.0])\n",
    "plt.ylim([0.0, 1.0])\n",
    "fpr, tpr, thresholds = roc_curve(trainMini['WnvPresent'], Z)\n",
    "print auc(fpr, tpr)\n",
    "plt.plot(fpr, tpr)"
   ]
  },
  {
   "cell_type": "code",
   "execution_count": 13,
   "metadata": {
    "collapsed": false
   },
   "outputs": [
    {
     "name": "stdout",
     "output_type": "stream",
     "text": [
      "2015-05-30 02:26:20 clock set\n"
     ]
    }
   ],
   "source": [
    "print strftime('%Y-%m-%d %X'), 'clock set'\n",
    "test = pd.read_csv('../input/test.csv', parse_dates=['Date'], date_parser=date_parser)[['Date', 'Species', 'Latitude', 'Longitude']]\n",
    "test['Week'] = map(lambda x: x.week, test['Date'])\n",
    "weatherTest = pd.merge(test, weatherDates, how='left', on=['Date'])"
   ]
  },
  {
   "cell_type": "code",
   "execution_count": 14,
   "metadata": {
    "collapsed": true
   },
   "outputs": [],
   "source": [
    "weatherTest['AntiWeek'] = weatherTest['Week'] * (52 - weatherTest['Week'])\n",
    "weatherTest['Area'] = scale(weatherTest['Latitude'] * weatherTest['Longitude'])"
   ]
  },
  {
   "cell_type": "code",
   "execution_count": 15,
   "metadata": {
    "collapsed": true
   },
   "outputs": [],
   "source": [
    "# does this matter? not checked yet\n",
    "weatherTest['Latitude'] = scale(weatherTest['Latitude'])\n",
    "weatherTest['Longitude'] = scale(weatherTest['Longitude'])\n",
    "weatherTest['Tmax'] = scale(map(float, weatherTest['Tmax']))\n",
    "weatherTest['Tavg'] = scale(map(float, weatherTest['Tavg']))\n",
    "weatherTest['3avg'] = scale(map(float, weatherTest['3avg']))\n",
    "weatherTest['7avg'] = scale(map(float, weatherTest['7avg']))\n",
    "weatherTest['14avg'] = scale(map(float, weatherTest['14avg']))\n",
    "weatherTest['Week'] = scale(map(float, weatherTest['Week']))\n",
    "weatherTest['Area'] = scale(map(float, weatherTest['Area']))\n",
    "weatherTest['AntiWeek'] = scale(map(float, weatherTest['AntiWeek']))\n",
    "\n"
   ]
  },
  {
   "cell_type": "code",
   "execution_count": 16,
   "metadata": {
    "collapsed": true
   },
   "outputs": [],
   "source": [
    "Z_test = clf.predict(weatherTest[['Week', 'AntiWeek', 'Latitude', 'Longitude', 'Area', 'Tavg', 'Tmax', '3avg', '7avg', '14avg']])"
   ]
  },
  {
   "cell_type": "code",
   "execution_count": 17,
   "metadata": {
    "collapsed": false
   },
   "outputs": [
    {
     "name": "stdout",
     "output_type": "stream",
     "text": [
      "-0.0937323681482 0.148245783399\n"
     ]
    }
   ],
   "source": [
    "print min(Z_test), max(Z_test)\n",
    "# these values are not all between 0 and 1"
   ]
  },
  {
   "cell_type": "code",
   "execution_count": 18,
   "metadata": {
    "collapsed": false
   },
   "outputs": [],
   "source": [
    "Z_test = Z_test + 0.1"
   ]
  },
  {
   "cell_type": "code",
   "execution_count": 19,
   "metadata": {
    "collapsed": false
   },
   "outputs": [
    {
     "name": "stdout",
     "output_type": "stream",
     "text": [
      "0.00626763185183 0.248245783399\n"
     ]
    }
   ],
   "source": [
    "print min(Z_test), max(Z_test)\n",
    "# these values are not all between 0 and 1"
   ]
  },
  {
   "cell_type": "code",
   "execution_count": 20,
   "metadata": {
    "collapsed": true
   },
   "outputs": [],
   "source": [
    "with open('ridgecv.csv', 'w') as f:\n",
    "    f.write('Id,WnvPresent\\n')\n",
    "    for i in xrange(1, 116293 + 1):\n",
    "        f.write(str(i) + ',' + str(Z_test[i - 1]) + '\\n')"
   ]
  },
  {
   "cell_type": "code",
   "execution_count": null,
   "metadata": {
    "collapsed": true
   },
   "outputs": [],
   "source": []
  }
 ],
 "metadata": {
  "kernelspec": {
   "display_name": "Python 2",
   "language": "python",
   "name": "python2"
  },
  "language_info": {
   "codemirror_mode": {
    "name": "ipython",
    "version": 2
   },
   "file_extension": ".py",
   "mimetype": "text/x-python",
   "name": "python",
   "nbconvert_exporter": "python",
   "pygments_lexer": "ipython2",
   "version": "2.7.9"
  }
 },
 "nbformat": 4,
 "nbformat_minor": 0
}

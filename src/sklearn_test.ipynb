{
 "cells": [
  {
   "cell_type": "code",
   "execution_count": 144,
   "metadata": {
    "collapsed": false
   },
   "outputs": [
    {
     "name": "stdout",
     "output_type": "stream",
     "text": [
      "Populating the interactive namespace from numpy and matplotlib\n"
     ]
    }
   ],
   "source": [
    "%pylab inline\n",
    "import numpy as np\n",
    "from sklearn.cross_validation import train_test_split\n",
    "from sklearn.ensemble import ExtraTreesClassifier\n",
    "from sklearn.neighbors import KNeighborsClassifier\n",
    "from sklearn.preprocessing import MinMaxScaler"
   ]
  },
  {
   "cell_type": "code",
   "execution_count": 145,
   "metadata": {
    "collapsed": true
   },
   "outputs": [],
   "source": [
    "# load train and test data\n",
    "wnv_train = np.loadtxt('../working/train_f.csv', delimiter=',', dtype=float64, skiprows=1)"
   ]
  },
  {
   "cell_type": "code",
   "execution_count": 146,
   "metadata": {
    "collapsed": false
   },
   "outputs": [],
   "source": [
    "# split the data into training and validation sets\n",
    "min_max_scaler = MinMaxScaler()\n",
    "wnv_mm = min_max_scaler.fit_transform(wnv_train[:,2:])\n",
    "X_train, X_test, y_train, y_test = train_test_split(wnv_mm, wnv_train[:,1].astype(int))"
   ]
  },
  {
   "cell_type": "code",
   "execution_count": 147,
   "metadata": {
    "collapsed": true
   },
   "outputs": [],
   "source": [
    "# parameters\n",
    "n_neighbors = 3\n",
    "n_components = 65\n",
    "n_estimators = 500\n",
    "n_jobs = 3"
   ]
  },
  {
   "cell_type": "code",
   "execution_count": 148,
   "metadata": {
    "collapsed": false
   },
   "outputs": [],
   "source": [
    "#clf = KNeighborsClassifier(n_neighbors=n_neighbors)\n",
    "clf = ExtraTreesClassifier(n_estimators=n_estimators, n_jobs=n_jobs)\n",
    "clf.fit(Xn_train, y_train)\n",
    "\n",
    "# use the model to predict the labels of the test data\n",
    "predicted = clf.predict(Xn_test)\n",
    "expected = y_test"
   ]
  },
  {
   "cell_type": "code",
   "execution_count": 149,
   "metadata": {
    "collapsed": false
   },
   "outputs": [
    {
     "name": "stdout",
     "output_type": "stream",
     "text": [
      "0.909783022459\n",
      "             precision    recall  f1-score   support\n",
      "\n",
      "          0       0.94      0.97      0.95      2471\n",
      "          1       0.03      0.02      0.02       156\n",
      "\n",
      "avg / total       0.89      0.91      0.90      2627\n",
      "\n",
      "[[2387   84]\n",
      " [ 153    3]]\n"
     ]
    }
   ],
   "source": [
    "# accuracy\n",
    "matches = (predicted == expected)\n",
    "print matches.sum() / float(len(matches))\n",
    "\n",
    "# f1 score\n",
    "from sklearn import metrics\n",
    "print metrics.classification_report(expected, predicted)\n",
    "\n",
    "# confusion matrix\n",
    "print metrics.confusion_matrix(expected, predicted)"
   ]
  },
  {
   "cell_type": "code",
   "execution_count": 150,
   "metadata": {
    "collapsed": false
   },
   "outputs": [
    {
     "name": "stdout",
     "output_type": "stream",
     "text": [
      "87\n",
      "156\n"
     ]
    }
   ],
   "source": [
    "print np.count_nonzero(predicted == 1)\n",
    "print np.count_nonzero(y_test)"
   ]
  },
  {
   "cell_type": "code",
   "execution_count": null,
   "metadata": {
    "collapsed": true
   },
   "outputs": [],
   "source": []
  }
 ],
 "metadata": {
  "kernelspec": {
   "display_name": "Python 2",
   "language": "python",
   "name": "python2"
  },
  "language_info": {
   "codemirror_mode": {
    "name": "ipython",
    "version": 2
   },
   "file_extension": ".py",
   "mimetype": "text/x-python",
   "name": "python",
   "nbconvert_exporter": "python",
   "pygments_lexer": "ipython2",
   "version": "2.7.9"
  }
 },
 "nbformat": 4,
 "nbformat_minor": 0
}

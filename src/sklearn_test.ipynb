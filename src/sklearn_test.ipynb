{
 "cells": [
  {
   "cell_type": "code",
   "execution_count": 64,
   "metadata": {
    "collapsed": false
   },
   "outputs": [
    {
     "name": "stdout",
     "output_type": "stream",
     "text": [
      "Populating the interactive namespace from numpy and matplotlib\n"
     ]
    },
    {
     "name": "stderr",
     "output_type": "stream",
     "text": [
      "WARNING: pylab import has clobbered these variables: ['indices', 'f', 'std', 'clf']\n",
      "`%matplotlib` prevents importing * from pylab and numpy\n"
     ]
    }
   ],
   "source": [
    "%pylab inline\n",
    "\n",
    "import pandas as pd\n",
    "import numpy as np\n",
    "\n",
    "from sklearn.cross_validation import train_test_split\n",
    "from sklearn.ensemble import ExtraTreesClassifier\n",
    "from sklearn.neighbors import KNeighborsClassifier\n",
    "from sklearn.preprocessing import StandardScaler\n",
    "from sklearn.metrics import roc_curve, auc, classification_report, confusion_matrix, roc_auc_score\n",
    "\n",
    "import datetime, time"
   ]
  },
  {
   "cell_type": "code",
   "execution_count": 65,
   "metadata": {
    "collapsed": false
   },
   "outputs": [],
   "source": [
    "# Read data\n",
    "wnv_train = pd.read_csv('../working/train_f.csv', index_col=0)\n",
    "wnv_test = pd.read_csv('../working/test_f.csv', index_col=0)\n",
    "#f_names = wnv_train.columns[2:]"
   ]
  },
  {
   "cell_type": "code",
   "execution_count": 66,
   "metadata": {
    "collapsed": false
   },
   "outputs": [],
   "source": [
    "# convert list of labels to binary class matrix\n",
    "labels = wnv_train.WnvPresent.values.astype('int')\n",
    "yr_train = labels\n",
    "wnv_train.drop('WnvPresent', axis=1, inplace=True)\n",
    "f_names = wnv_train.columns"
   ]
  },
  {
   "cell_type": "code",
   "execution_count": 67,
   "metadata": {
    "collapsed": false
   },
   "outputs": [],
   "source": [
    "# raw data\n",
    "#yr_train = wnv_train[:,1].astype(int)\n",
    "Xr_train =(wnv_train.values).astype('float64')\n",
    "Xr_test = (wnv_test.values).astype('float64')\n",
    "\n",
    "# normalize data\n",
    "scaler = StandardScaler()\n",
    "scaler.fit(Xr_train)\n",
    "Xn_train = scaler.transform(Xr_train)\n",
    "Xn_test = scaler.transform(Xr_test)\n",
    "\n",
    "X_train, X_test, y_train, y_test = train_test_split(Xn_train, yr_train)"
   ]
  },
  {
   "cell_type": "code",
   "execution_count": 68,
   "metadata": {
    "collapsed": true
   },
   "outputs": [],
   "source": [
    "# parameters\n",
    "n_neighbors = 30\n",
    "n_components = 65\n",
    "n_estimators = 1000\n",
    "n_jobs = 3\n",
    "p_level = 0.3"
   ]
  },
  {
   "cell_type": "code",
   "execution_count": 69,
   "metadata": {
    "collapsed": false
   },
   "outputs": [],
   "source": [
    "#clf = KNeighborsClassifier(n_neighbors=n_neighbors)\n",
    "clf = ExtraTreesClassifier(n_estimators=n_estimators, n_jobs=n_jobs)\n",
    "#clf.fit(X_train, y_train)\n",
    "clf.fit(Xn_train, yr_train)\n",
    "\n",
    "# use the model to predict the labels of the test data\n",
    "predicted = clf.predict(X_test)\n",
    "proba = clf.predict_proba(X_test)\n",
    "expected = y_test"
   ]
  },
  {
   "cell_type": "code",
   "execution_count": 70,
   "metadata": {
    "collapsed": false
   },
   "outputs": [
    {
     "name": "stdout",
     "output_type": "stream",
     "text": [
      "0.980966882375\n",
      "             precision    recall  f1-score   support\n",
      "\n",
      "          0       0.98      1.00      0.99      2495\n",
      "          1       0.96      0.65      0.77       132\n",
      "\n",
      "avg / total       0.98      0.98      0.98      2627\n",
      "\n",
      "[[2491    4]\n",
      " [  46   86]]\n",
      "0.994118540111\n"
     ]
    }
   ],
   "source": [
    "# accuracy\n",
    "matches = (predicted == expected)\n",
    "print matches.sum() / float(len(matches))\n",
    "\n",
    "# f1 score\n",
    "\n",
    "print classification_report(expected, predicted)\n",
    "\n",
    "# confusion matrix\n",
    "print confusion_matrix(expected, predicted)\n",
    "\n",
    "# auc\n",
    "print roc_auc_score(expected, proba[:,1])"
   ]
  },
  {
   "cell_type": "code",
   "execution_count": 71,
   "metadata": {
    "collapsed": false
   },
   "outputs": [
    {
     "name": "stdout",
     "output_type": "stream",
     "text": [
      "Area under the ROC curve : 0.994119\n"
     ]
    },
    {
     "data": {
      "image/png": "[encoded data removed]",
      "text/plain": [
       "<matplotlib.figure.Figure at 0x37c4c50>"
      ]
     },
     "metadata": {},
     "output_type": "display_data"
    }
   ],
   "source": [
    "#print np.count_nonzero(predicted == 1)\n",
    "#print np.count_nonzero(y_test)\n",
    "#np.max(proba[:,1])\n",
    "# Compute ROC curve and area the curve\n",
    "fpr, tpr, thresholds = roc_curve(expected, proba[:,1])\n",
    "roc_auc = auc(fpr, tpr)\n",
    "print \"Area under the ROC curve : %f\" % roc_auc\n",
    "\n",
    "# Plot ROC curve\n",
    "plt.clf()\n",
    "plt.plot(fpr, tpr, label='ROC curve (area = %0.2f)' % roc_auc)\n",
    "plt.plot([0, 1], [0, 1], 'k--')\n",
    "plt.xlim([0.0, 1.0])\n",
    "plt.ylim([0.0, 1.0])\n",
    "plt.xlabel('False Positive Rate')\n",
    "plt.ylabel('True Positive Rate')\n",
    "plt.title('Receiver operating characteristic example')\n",
    "plt.legend(loc=\"lower right\")\n",
    "plt.show()"
   ]
  },
  {
   "cell_type": "code",
   "execution_count": 72,
   "metadata": {
    "collapsed": false
   },
   "outputs": [
    {
     "name": "stdout",
     "output_type": "stream",
     "text": [
      "Feature ranking:\n",
      "1. Longitude (0.249141)\n",
      "2. Trap (0.236230)\n",
      "3. Latitude (0.232140)\n",
      "4. AddressAccuracy (0.076108)\n",
      "5. CULEX PIPIENS/RESTUANS (0.023671)\n",
      "6. CULEX PIPIENS (0.023149)\n",
      "7. CULEX RESTUANS (0.013754)\n",
      "8. Dawn (0.010106)\n",
      "9. Sunrise (0.009722)\n",
      "10. Dusk (0.009337)\n",
      "11. Sunset (0.008974)\n",
      "12. DayOfYear (0.008873)\n",
      "13. Noon (0.005173)\n",
      "14. MoonPhase (0.004883)\n",
      "15. DayOfMonth (0.003868)\n",
      "16. DewPoint_1 (0.003769)\n",
      "17. Cool_1 (0.003653)\n",
      "18. DewPoint_2 (0.003652)\n",
      "19. DayOfWeek (0.003521)\n",
      "20. Tavg_1 (0.003517)\n",
      "21. ResultSpeed_2 (0.003499)\n",
      "22. Cool_2 (0.003449)\n",
      "23. ResultDir_2 (0.003404)\n",
      "24. ResultSpeed_1 (0.003390)\n",
      "25. Tmax_1 (0.003227)\n",
      "26. WetBulb_1 (0.003166)\n",
      "27. AvgSpeed_2 (0.003160)\n",
      "28. Tmax_2 (0.003129)\n",
      "29. AvgSpeed_1 (0.003111)\n",
      "30. PrecipTotal_2 (0.003096)\n",
      "31. Tmin_2 (0.003096)\n",
      "32. Tavg_2 (0.003087)\n",
      "33. Tmin_1 (0.003056)\n",
      "34. ResultDir_1 (0.003034)\n",
      "35. WetBulb_2 (0.002968)\n",
      "36. Depart_1 (0.002915)\n",
      "37. SeaLevel_2 (0.002679)\n",
      "38. StnPressure_2 (0.002575)\n",
      "39. SeaLevel_1 (0.002501)\n",
      "40. StnPressure_1 (0.002371)\n",
      "41. CULEX TERRITANS (0.002043)\n",
      "42. PrecipTotal_1 (0.001749)\n",
      "43. CULEX SALINARIUS (0.000776)\n",
      "44. Heat_1 (0.000550)\n",
      "45. Heat_2 (0.000367)\n",
      "46. CULEX ERRATICUS (0.000334)\n",
      "47. CULEX TARSALIS (0.000027)\n",
      "48. Depart_2 (0.000000)\n",
      "49. Depth_2 (0.000000)\n",
      "50. Water1_2 (0.000000)\n",
      "51. SnowFall_2 (0.000000)\n",
      "52. Water1_1 (0.000000)\n",
      "53. UNSPECIFIED CULEX (0.000000)\n",
      "54. SnowFall_1 (0.000000)\n",
      "55. Depth_1 (0.000000)\n"
     ]
    }
   ],
   "source": [
    "importances = clf.feature_importances_\n",
    "std = np.std([tree.feature_importances_ for tree in clf.estimators_],\n",
    "             axis=0)\n",
    "indices = np.argsort(importances)[::-1]\n",
    "\n",
    "# Print the feature ranking\n",
    "print(\"Feature ranking:\")\n",
    "\n",
    "for f in range(len(f_names)):\n",
    "    print(\"%d. %s (%f)\" % (f + 1, f_names[indices[f]], importances[indices[f]]))"
   ]
  },
  {
   "cell_type": "code",
   "execution_count": 73,
   "metadata": {
    "collapsed": false
   },
   "outputs": [
    {
     "name": "stdout",
     "output_type": "stream",
     "text": [
      "0.598\n"
     ]
    }
   ],
   "source": [
    "proba = clf.predict_proba(Xn_test)\n",
    "print np.max(proba[:,1])"
   ]
  },
  {
   "cell_type": "code",
   "execution_count": null,
   "metadata": {
    "collapsed": true
   },
   "outputs": [],
   "source": []
  },
  {
   "cell_type": "code",
   "execution_count": null,
   "metadata": {
    "collapsed": false
   },
   "outputs": [],
   "source": []
  },
  {
   "cell_type": "code",
   "execution_count": 74,
   "metadata": {
    "collapsed": false
   },
   "outputs": [],
   "source": [
    "st = datetime.datetime.fromtimestamp(time.time()).strftime('%Y%m%d_%H%M%S')\n",
    "\n",
    "def write_preds(proba, fname):\n",
    "    pd.DataFrame({\"Id\": list(range(1,len(proba)+1)), \"WnvPresent\": proba}).to_csv(fname, index=False, header=True)\n",
    "\n",
    "write_preds(proba[:,1], \"../working/sklearn_test_\" + st + \".csv\")"
   ]
  },
  {
   "cell_type": "code",
   "execution_count": null,
   "metadata": {
    "collapsed": true
   },
   "outputs": [],
   "source": []
  }
 ],
 "metadata": {
  "kernelspec": {
   "display_name": "Python 2",
   "language": "python",
   "name": "python2"
  },
  "language_info": {
   "codemirror_mode": {
    "name": "ipython",
    "version": 2
   },
   "file_extension": ".py",
   "mimetype": "text/x-python",
   "name": "python",
   "nbconvert_exporter": "python",
   "pygments_lexer": "ipython2",
   "version": "2.7.9"
  }
 },
 "nbformat": 4,
 "nbformat_minor": 0
}

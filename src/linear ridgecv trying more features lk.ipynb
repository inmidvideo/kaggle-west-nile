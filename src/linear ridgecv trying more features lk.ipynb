{
 "cells": [
  {
   "cell_type": "code",
   "execution_count": 118,
   "metadata": {
    "collapsed": false
   },
   "outputs": [
    {
     "name": "stdout",
     "output_type": "stream",
     "text": [
      "Populating the interactive namespace from numpy and matplotlib\n",
      "2015-05-30 18:28:01 clock set\n"
     ]
    },
    {
     "name": "stderr",
     "output_type": "stream",
     "text": [
      "WARNING: pylab import has clobbered these variables: ['datetime', 'clf', 'test']\n",
      "`%matplotlib` prevents importing * from pylab and numpy\n"
     ]
    }
   ],
   "source": [
    "# imports\n",
    "%pylab inline\n",
    "\n",
    "from __future__ import division\n",
    "from time import strftime\n",
    "from datetime import datetime\n",
    "\n",
    "import pandas as pd\n",
    "import numpy as np\n",
    "\n",
    "from sklearn.metrics import roc_curve, auc, classification_report, confusion_matrix, roc_auc_score\n",
    "from sklearn.preprocessing import LabelEncoder, LabelBinarizer, scale\n",
    "from sklearn import svm, linear_model, neighbors, ensemble\n",
    "from sklearn.grid_search import GridSearchCV\n",
    "\n",
    "print strftime('%Y-%m-%d %X'), 'clock set'\n",
    "\n",
    "pd.set_option('max_columns', 50)"
   ]
  },
  {
   "cell_type": "code",
   "execution_count": 46,
   "metadata": {
    "collapsed": false
   },
   "outputs": [
    {
     "name": "stdout",
     "output_type": "stream",
     "text": [
      "2015-05-30 17:46:33 clock set\n"
     ]
    }
   ],
   "source": [
    "# load CSVs\n",
    "date_parser = lambda x: datetime.strptime(x, \"%Y-%m-%d\")\n",
    "train = pd.read_csv('../input/train.csv', parse_dates=['Date'], date_parser=date_parser)\n",
    "test = pd.read_csv('../input/test.csv', parse_dates=['Date'], date_parser=date_parser)\n",
    "\n",
    "print strftime('%Y-%m-%d %X'), 'clock set'"
   ]
  },
  {
   "cell_type": "code",
   "execution_count": 194,
   "metadata": {
    "collapsed": false
   },
   "outputs": [],
   "source": [
    "weather = pd.read_csv('../input/weather.csv', na_values='M', parse_dates=['Date'], date_parser=date_parser)[[\n",
    "        'Station',\n",
    "        'Date',\n",
    "        'Tmax',\n",
    "        'Tmin',\n",
    "        'Tavg',\n",
    "        'DewPoint',\n",
    "        'WetBulb',\n",
    "        'PrecipTotal'\n",
    "    ]]\n",
    "weather['Year'] = [i.year for i in weather['Date']]\n"
   ]
  },
  {
   "cell_type": "code",
   "execution_count": 204,
   "metadata": {
    "collapsed": false
   },
   "outputs": [
    {
     "name": "stderr",
     "output_type": "stream",
     "text": [
      "/usr/local/lib/python2.7/site-packages/IPython/kernel/__main__.py:5: SettingWithCopyWarning: \n",
      "A value is trying to be set on a copy of a slice from a DataFrame.\n",
      "Try using .loc[row_indexer,col_indexer] = value instead\n",
      "\n",
      "See the the caveats in the documentation: http://pandas.pydata.org/pandas-docs/stable/indexing.html#indexing-view-versus-copy\n",
      "/usr/local/lib/python2.7/site-packages/IPython/kernel/__main__.py:6: SettingWithCopyWarning: \n",
      "A value is trying to be set on a copy of a slice from a DataFrame.\n",
      "Try using .loc[row_indexer,col_indexer] = value instead\n",
      "\n",
      "See the the caveats in the documentation: http://pandas.pydata.org/pandas-docs/stable/indexing.html#indexing-view-versus-copy\n",
      "/usr/local/lib/python2.7/site-packages/IPython/kernel/__main__.py:7: SettingWithCopyWarning: \n",
      "A value is trying to be set on a copy of a slice from a DataFrame.\n",
      "Try using .loc[row_indexer,col_indexer] = value instead\n",
      "\n",
      "See the the caveats in the documentation: http://pandas.pydata.org/pandas-docs/stable/indexing.html#indexing-view-versus-copy\n",
      "/usr/local/lib/python2.7/site-packages/IPython/kernel/__main__.py:8: SettingWithCopyWarning: \n",
      "A value is trying to be set on a copy of a slice from a DataFrame.\n",
      "Try using .loc[row_indexer,col_indexer] = value instead\n",
      "\n",
      "See the the caveats in the documentation: http://pandas.pydata.org/pandas-docs/stable/indexing.html#indexing-view-versus-copy\n",
      "/usr/local/lib/python2.7/site-packages/IPython/kernel/__main__.py:9: SettingWithCopyWarning: \n",
      "A value is trying to be set on a copy of a slice from a DataFrame.\n",
      "Try using .loc[row_indexer,col_indexer] = value instead\n",
      "\n",
      "See the the caveats in the documentation: http://pandas.pydata.org/pandas-docs/stable/indexing.html#indexing-view-versus-copy\n",
      "/usr/local/lib/python2.7/site-packages/IPython/kernel/__main__.py:10: SettingWithCopyWarning: \n",
      "A value is trying to be set on a copy of a slice from a DataFrame.\n",
      "Try using .loc[row_indexer,col_indexer] = value instead\n",
      "\n",
      "See the the caveats in the documentation: http://pandas.pydata.org/pandas-docs/stable/indexing.html#indexing-view-versus-copy\n",
      "/usr/local/lib/python2.7/site-packages/IPython/kernel/__main__.py:11: SettingWithCopyWarning: \n",
      "A value is trying to be set on a copy of a slice from a DataFrame.\n",
      "Try using .loc[row_indexer,col_indexer] = value instead\n",
      "\n",
      "See the the caveats in the documentation: http://pandas.pydata.org/pandas-docs/stable/indexing.html#indexing-view-versus-copy\n",
      "/usr/local/lib/python2.7/site-packages/IPython/kernel/__main__.py:12: SettingWithCopyWarning: \n",
      "A value is trying to be set on a copy of a slice from a DataFrame.\n",
      "Try using .loc[row_indexer,col_indexer] = value instead\n",
      "\n",
      "See the the caveats in the documentation: http://pandas.pydata.org/pandas-docs/stable/indexing.html#indexing-view-versus-copy\n",
      "/usr/local/lib/python2.7/site-packages/IPython/kernel/__main__.py:13: SettingWithCopyWarning: \n",
      "A value is trying to be set on a copy of a slice from a DataFrame.\n",
      "Try using .loc[row_indexer,col_indexer] = value instead\n",
      "\n",
      "See the the caveats in the documentation: http://pandas.pydata.org/pandas-docs/stable/indexing.html#indexing-view-versus-copy\n",
      "/usr/local/lib/python2.7/site-packages/IPython/kernel/__main__.py:14: SettingWithCopyWarning: \n",
      "A value is trying to be set on a copy of a slice from a DataFrame.\n",
      "Try using .loc[row_indexer,col_indexer] = value instead\n",
      "\n",
      "See the the caveats in the documentation: http://pandas.pydata.org/pandas-docs/stable/indexing.html#indexing-view-versus-copy\n",
      "/usr/local/lib/python2.7/site-packages/IPython/kernel/__main__.py:15: SettingWithCopyWarning: \n",
      "A value is trying to be set on a copy of a slice from a DataFrame.\n",
      "Try using .loc[row_indexer,col_indexer] = value instead\n",
      "\n",
      "See the the caveats in the documentation: http://pandas.pydata.org/pandas-docs/stable/indexing.html#indexing-view-versus-copy\n"
     ]
    }
   ],
   "source": [
    "weatherDict = {}\n",
    "for year in set(weather.Year):\n",
    "    for station in set(weather.Station):\n",
    "        g = weather[(weather.Year == year) & (weather.Station == station)]\n",
    "        g['PrecipTotal'] = map(float, g['PrecipTotal'].replace('  T', 0))\n",
    "        g['3avg'] = pd.rolling_mean(g['Tavg'], 3).replace(NaN, g['Tavg'])\n",
    "        g['7avg'] = pd.rolling_mean(g['Tavg'], 7).replace(NaN, g['3avg'])\n",
    "        g['3max'] = pd.rolling_mean(g['Tmax'], 3).replace(NaN, g['Tmax'])\n",
    "        g['7max'] = pd.rolling_mean(g['Tmax'], 7).replace(NaN, g['3max'])\n",
    "        g['3dp'] = pd.rolling_mean(g['DewPoint'], 3).replace(NaN, g['DewPoint'])\n",
    "        g['7dp'] = pd.rolling_mean(g['DewPoint'], 7).replace(NaN, g['3dp'])\n",
    "        g['3wb'] = pd.rolling_mean(g['WetBulb'], 3).replace(NaN, g['WetBulb'])\n",
    "        g['7wb'] = pd.rolling_mean(g['WetBulb'], 7).replace(NaN, g['3wb'])\n",
    "        g['3pt'] = pd.rolling_mean(g['PrecipTotal'], 3).replace(NaN, g['PrecipTotal'])\n",
    "        g['7pt'] = pd.rolling_mean(g['PrecipTotal'], 7).replace(NaN, g['3pt'])\n",
    "        weatherDict[str(year) + str(station)] = g\n",
    "        \n",
    "weatherAverages = pd.concat(weatherDict.values())"
   ]
  },
  {
   "cell_type": "code",
   "execution_count": 205,
   "metadata": {
    "collapsed": false
   },
   "outputs": [],
   "source": [
    "weatherDates = weatherAverages.groupby('Date').mean().reset_index()\n",
    "weatherDates = weatherDates.fillna(0)\n",
    "weatherDates = weatherDates.drop('Year', 1)"
   ]
  },
  {
   "cell_type": "code",
   "execution_count": 219,
   "metadata": {
    "collapsed": true
   },
   "outputs": [],
   "source": [
    "weatherDates['3avg3wb'] = weatherDates['3avg'] * weatherDates['3wb']\n",
    "weatherDates['TavgWetBulb'] = weatherDates['Tavg'] * weatherDates['WetBulb']"
   ]
  },
  {
   "cell_type": "code",
   "execution_count": 220,
   "metadata": {
    "collapsed": false
   },
   "outputs": [],
   "source": [
    "def transformFrame(incomingFrame):\n",
    "    df = pd.DataFrame.copy(incomingFrame)\n",
    "    df['Week'] = [i.week for i in df['Date']]\n",
    "    df['Year'] = [i.year for i in df['Date']]\n",
    "    df['DayOfYear'] = [i.timetuple().tm_yday for i in df['Date']]\n",
    "    df['WeekSquared'] = df['Week'] ** 2\n",
    "    df = pd.concat([df[['Date', 'Year', 'Week', 'WeekSquared']],\n",
    "                    pd.get_dummies(df['Species']),\n",
    "                    pd.get_dummies(df['Trap']),\n",
    "                    ],\n",
    "                   axis=1)\n",
    "    return pd.merge(df, weatherDates, how='left', on=['Date'])"
   ]
  },
  {
   "cell_type": "code",
   "execution_count": 221,
   "metadata": {
    "collapsed": false
   },
   "outputs": [],
   "source": [
    "trainMini = transformFrame(train)"
   ]
  },
  {
   "cell_type": "code",
   "execution_count": 222,
   "metadata": {
    "collapsed": false
   },
   "outputs": [],
   "source": [
    "# # does this matter? not checked yet\n",
    "for i in trainMini.columns:\n",
    "    if i not in ('Date', 'Year', 'WnvPresent'):\n",
    "        trainMini[i] = scale(map(float, trainMini[i]))"
   ]
  },
  {
   "cell_type": "code",
   "execution_count": 223,
   "metadata": {
    "collapsed": true
   },
   "outputs": [],
   "source": [
    "def crossValidateUsingYear(trainFrame, year):\n",
    "    global train\n",
    "    maskTrain = trainFrame['Year'] != year\n",
    "    maskValidate = trainFrame['Year'] == year\n",
    "    \n",
    "#    clf = linear_model.RidgeCV(alphas=[10]) # try adjusting alpha    \n",
    "#    clf = ensemble.RandomForestClassifier(n_estimators=150)\n",
    "    \n",
    "    param_grid = dict(n_estimators=[100, 250])\n",
    "    clf = GridSearchCV(ensemble.RandomForestClassifier(), param_grid=param_grid, scoring='roc_auc', n_jobs=1, cv=2, verbose=5)\n",
    "    \n",
    "    clf.fit(trainFrame.ix[maskTrain, trainFrame.columns - ['Date', 'Year']], train.ix[maskTrain, 'WnvPresent'])\n",
    "    \n",
    "    Z = clf.predict_proba(trainFrame.ix[maskValidate, trainFrame.columns - ['Date', 'Year']])[:, 1]\n",
    "#    Z = clf.predict(trainFrame.ix[maskValidate, trainFrame.columns - ['Date', 'Year']])\n",
    "    \n",
    "    fpr, tpr, thresholds = roc_curve(train.ix[maskValidate, 'WnvPresent'], Z)\n",
    "    return fpr, tpr"
   ]
  },
  {
   "cell_type": "code",
   "execution_count": 224,
   "metadata": {
    "collapsed": false
   },
   "outputs": [
    {
     "name": "stdout",
     "output_type": "stream",
     "text": [
      "Fitting 2 folds for each of 2 candidates, totalling 4 fits\n",
      "[CV] n_estimators=100 ................................................\n",
      "[CV] ....................... n_estimators=100, score=0.286477 -   0.5s\n",
      "[CV] n_estimators=100 ................................................\n",
      "[CV] ....................... n_estimators=100, score=0.331010 -   0.5s\n",
      "[CV] n_estimators=250 ................................................\n",
      "[CV] ....................... n_estimators=250, score=0.230169 -   1.2s\n",
      "[CV] n_estimators=250 ................................................\n",
      "[CV] ....................... n_estimators=250, score=0.327945 -   1.3s"
     ]
    },
    {
     "name": "stderr",
     "output_type": "stream",
     "text": [
      "[Parallel(n_jobs=1)]: Done   1 jobs       | elapsed:    0.5s\n",
      "[Parallel(n_jobs=1)]: Done   4 out of   4 | elapsed:    3.5s finished\n"
     ]
    },
    {
     "name": "stdout",
     "output_type": "stream",
     "text": [
      "\n",
      "AUC validating with year 2007: 0.602990399431\n",
      "Fitting 2 folds for each of 2 candidates, totalling 4 fits\n",
      "[CV] n_estimators=100 ................................................\n",
      "[CV] ....................... n_estimators=100, score=0.460105 -   0.8s\n",
      "[CV] n_estimators=100 ................................................\n",
      "[CV] ....................... n_estimators=100, score=0.570918 -   1.0s\n",
      "[CV] n_estimators=250 ................................................\n",
      "[CV] ....................... n_estimators=250, score=0.493332 -   2.0s\n",
      "[CV] n_estimators=250 ................................................\n",
      "[CV] ....................... n_estimators=250, score=0.552308 -   2.4s"
     ]
    },
    {
     "name": "stderr",
     "output_type": "stream",
     "text": [
      "[Parallel(n_jobs=1)]: Done   1 jobs       | elapsed:    0.8s\n",
      "[Parallel(n_jobs=1)]: Done   4 out of   4 | elapsed:    6.3s finished\n"
     ]
    },
    {
     "name": "stdout",
     "output_type": "stream",
     "text": [
      "\n",
      "AUC validating with year 2009: 0.673223979231\n",
      "Fitting 2 folds for each of 2 candidates, totalling 4 fits\n",
      "[CV] n_estimators=100 ................................................\n",
      "[CV] ....................... n_estimators=100, score=0.607616 -   0.8s\n",
      "[CV] n_estimators=100 ................................................\n",
      "[CV] ....................... n_estimators=100, score=0.542354 -   0.9s\n",
      "[CV] n_estimators=250 ................................................\n",
      "[CV] ....................... n_estimators=250, score=0.639795 -   2.3s\n",
      "[CV] n_estimators=250 ................................................\n",
      "[CV] ....................... n_estimators=250, score=0.542026 -   2.6s"
     ]
    },
    {
     "name": "stderr",
     "output_type": "stream",
     "text": [
      "[Parallel(n_jobs=1)]: Done   1 jobs       | elapsed:    0.8s\n",
      "[Parallel(n_jobs=1)]: Done   4 out of   4 | elapsed:    6.7s finished\n"
     ]
    },
    {
     "name": "stdout",
     "output_type": "stream",
     "text": [
      "\n",
      "AUC validating with year 2011: 0.70921294222\n",
      "Fitting 2 folds for each of 2 candidates, totalling 4 fits\n",
      "[CV] n_estimators=100 ................................................\n",
      "[CV] ....................... n_estimators=100, score=0.482274 -   0.7s\n",
      "[CV] n_estimators=100 ................................................\n",
      "[CV] ....................... n_estimators=100, score=0.421467 -   0.7s\n",
      "[CV] n_estimators=250 ................................................\n",
      "[CV] ....................... n_estimators=250, score=0.495919 -   1.7s\n",
      "[CV] n_estimators=250 ................................................\n",
      "[CV] ....................... n_estimators=250, score=0.401583 -   2.3s"
     ]
    },
    {
     "name": "stderr",
     "output_type": "stream",
     "text": [
      "[Parallel(n_jobs=1)]: Done   1 jobs       | elapsed:    0.7s\n",
      "[Parallel(n_jobs=1)]: Done   4 out of   4 | elapsed:    5.4s finished\n"
     ]
    },
    {
     "name": "stdout",
     "output_type": "stream",
     "text": [
      "\n",
      "AUC validating with year 2013: 0.659639075184\n",
      "Average: 0.661266599016\n"
     ]
    },
    {
     "data": {
      "text/plain": [
       "<matplotlib.legend.Legend at 0x1171e96d0>"
      ]
     },
     "execution_count": 224,
     "metadata": {},
     "output_type": "execute_result"
    },
    {
     "data": {
      "image/png": "[encoded data removed]",
      "text/plain": [
       "<matplotlib.figure.Figure at 0x1171e9690>"
      ]
     },
     "metadata": {},
     "output_type": "display_data"
    }
   ],
   "source": [
    "plt.xlim([0.0, 1.0])\n",
    "plt.ylim([0.0, 1.0])\n",
    "sumOfScores = 0\n",
    "for year in [2007, 2009, 2011, 2013]:\n",
    "    fpr, tpr = crossValidateUsingYear(trainMini, year)\n",
    "    plt.plot(fpr, tpr, label=year)\n",
    "    score = auc(fpr, tpr)\n",
    "    sumOfScores += score\n",
    "    print 'AUC validating with year', str(year) + ':', score\n",
    "print 'Average:', sumOfScores / 4\n",
    "plt.legend()"
   ]
  },
  {
   "cell_type": "code",
   "execution_count": 225,
   "metadata": {
    "collapsed": false
   },
   "outputs": [
    {
     "name": "stdout",
     "output_type": "stream",
     "text": [
      "0.823679151463\n"
     ]
    },
    {
     "data": {
      "text/plain": [
       "[<matplotlib.lines.Line2D at 0x1189334d0>]"
      ]
     },
     "execution_count": 225,
     "metadata": {},
     "output_type": "execute_result"
    },
    {
     "data": {
      "image/png": "[encoded data removed]",
      "text/plain": [
       "<matplotlib.figure.Figure at 0x118713e10>"
      ]
     },
     "metadata": {},
     "output_type": "display_data"
    }
   ],
   "source": [
    "clf = linear_model.RidgeCV(alphas=[0.001, 1, 10]) # try adjusting alpha\n",
    "clf.fit(trainMini[trainMini.columns - ['Date', 'Year', 'WnvPresent']], train['WnvPresent'])\n",
    "Z = clf.predict(trainMini[trainMini.columns - ['Date', 'Year', 'WnvPresent']])\n",
    "\n",
    "plt.xlim([0.0, 1.0])\n",
    "plt.ylim([0.0, 1.0])\n",
    "fpr, tpr, thresholds = roc_curve(train['WnvPresent'], Z)\n",
    "print auc(fpr, tpr)\n",
    "plt.plot(fpr, tpr)"
   ]
  },
  {
   "cell_type": "code",
   "execution_count": 226,
   "metadata": {
    "collapsed": false
   },
   "outputs": [
    {
     "name": "stdout",
     "output_type": "stream",
     "text": [
      "(0.0, 'Station')\n",
      "(2.821161069732625e-05, 'T089')\n",
      "(-0.00010418497970476892, 'T039')\n",
      "(-0.00012145648997829994, 'T090')\n",
      "(-0.00020125554510741495, 'T215')\n",
      "(0.00020581152466547792, 'T115')\n",
      "(-0.0002060629085463006, 'T033')\n",
      "(-0.00020979248438379727, 'T232')\n",
      "(0.00023926532594487071, 'T226')\n",
      "(-0.00024654894423292717, 'T054')\n",
      "(-0.0002734997160587227, 'T135')\n",
      "(-0.00028016717078571673, 'T103')\n",
      "(0.000288887114948011, 'T054C')\n",
      "(-0.00035658759361467673, 'T160')\n",
      "(-0.00038309806961933646, 'T040')\n",
      "(0.00040457625618728343, 'T227')\n",
      "(0.00041276758611275, 'T066')\n",
      "(0.0004192633514321642, '3max')\n",
      "(-0.00048086981041706167, 'T128')\n",
      "(-0.00058523312671354688, 'T151')\n",
      "(-0.0005865675336735876, 'T147')\n",
      "(0.00059682284972950583, 'T095')\n",
      "(-0.00062517755668523023, 'T220')\n",
      "(0.0006576077352633547, 'T107')\n",
      "(-0.00067420449886412825, 'CULEX TARSALIS')\n",
      "(-0.00067590917933557648, 'T237')\n",
      "(-0.00077997421885811491, 'T158')\n",
      "(-0.00078907503291247849, 'T012')\n",
      "(-0.0008255948396254098, 'T156')\n",
      "(-0.00086693661523895571, 'T159')\n",
      "(0.00086905750504229218, 'T081')\n",
      "(-0.00087486760457977653, 'T065')\n",
      "(0.00089970058979815803, 'T142')\n",
      "(-0.00092468741240736563, 'T094')\n",
      "(-0.00095009917004063027, 'T035')\n",
      "(-0.00095423369930358604, 'T031')\n",
      "(-0.001028500671054644, 'T036')\n",
      "(-0.00105799340417434, 'T162')\n",
      "(-0.0011006710435026434, 'CULEX ERRATICUS')\n",
      "(-0.0011163528373572262, 'T238')\n",
      "(-0.001178018048449303, 'T097')\n",
      "(0.0012024449961245409, 'T070')\n",
      "(-0.0012586756438395241, 'T094B')\n",
      "(-0.0013307943590916693, 'T084')\n",
      "(0.0013481991845765151, 'T114')\n",
      "(-0.001352019829027995, 'T129')\n",
      "(-0.0014083716832260507, 'T149')\n",
      "(-0.0014190918623171456, 'T218')\n",
      "(0.0014589938364224508, 'CULEX PIPIENS/RESTUANS')\n",
      "(-0.0015185586830739339, 'T076')\n",
      "(0.0015262711992818367, 'T030')\n",
      "(-0.001610172195796622, 'T067')\n",
      "(-0.001631893739613588, 'T085')\n",
      "(-0.0016464072007238428, 'T004')\n",
      "(-0.0016613918276107142, 'T044')\n",
      "(-0.0016631393609713996, 'T037')\n",
      "(-0.0016845692571223481, 'T073')\n",
      "(-0.0016869917471922236, 'T083')\n",
      "(-0.0016923889561439864, 'T091')\n",
      "(0.0016980882610369008, 'T154')\n",
      "(-0.0017674612893188169, 'T047')\n",
      "(-0.0018735925805231091, 'T236')\n",
      "(-0.0018750105919025373, 'T144')\n",
      "(-0.0018791918550959963, 'T150')\n",
      "(-0.0019045855059403038, 'T229')\n",
      "(0.0019166575684721465, 'T155')\n",
      "(-0.0019459621527175841, 'T078')\n",
      "(-0.0019760459472308867, 'T077')\n",
      "(-0.0020483088173932629, 'T060')\n",
      "(-0.0020750403896272474, 'T048')\n",
      "(-0.002087434866325566, 'T007')\n",
      "(0.0022100874230090994, 'T045')\n",
      "(-0.0022521437522300403, 'T141')\n",
      "(0.0022859154510115332, 'T231')\n",
      "(-0.0022925828574500429, 'T051')\n",
      "(0.002320121331649716, 'T221')\n",
      "(-0.0024235799010057235, 'T018')\n",
      "(-0.0024603906089168959, 'T050')\n",
      "(-0.0024766486521912157, 'T146')\n",
      "(-0.0024827757169987308, 'T152')\n",
      "(-0.0025091230036196066, 'T224')\n",
      "(-0.0025512852307656431, 'T222')\n",
      "(0.00256903945751219, 'T061')\n",
      "(0.0025779990473893122, 'T005')\n",
      "(-0.0026633221059455536, 'T019')\n",
      "(-0.0026942389674786682, 'T001')\n",
      "(-0.002744987668847898, 'T063')\n",
      "(-0.0028000701659038896, 'T080')\n",
      "(-0.0028088489198125899, 'T062')\n",
      "(-0.0028265182157838353, 'T072')\n",
      "(-0.0028386267454152403, 'T148')\n",
      "(0.002901744024711661, 'T903')\n",
      "(-0.0029640054622177558, 'T157')\n",
      "(0.0029676382237084908, 'T008')\n",
      "(-0.0029704322223551571, 'T153')\n",
      "(-0.0029727047801770823, 'T219')\n",
      "(-0.002973362341435859, 'T074')\n",
      "(-0.0029744644459697156, 'T209')\n",
      "(-0.0030539179261879212, 'T034')\n",
      "(-0.0030654484585284081, 'T025')\n",
      "(-0.0031066208148331498, 'T075')\n",
      "(0.0031101297581699328, 'T082')\n",
      "(-0.0031191764501272701, 'T161')\n",
      "(-0.003170353949371929, 'T102')\n",
      "(-0.0031870780358076445, 'T049')\n",
      "(-0.0031996638886084838, 'T092')\n",
      "(0.0032160611226572655, 'T009')\n",
      "(0.003280335837189341, 'T027')\n",
      "(0.003362047365953913, 'T086')\n",
      "(-0.0033690957458247794, 'T071')\n",
      "(-0.0034136303133323054, 'T206')\n",
      "(-0.0034308524503359195, 'T088')\n",
      "(-0.0034439685969118727, 'T079')\n",
      "(0.0035353414823475759, 'T228')\n",
      "(-0.0035527709892448911, 'T100')\n",
      "(-0.0036310549289737537, 'T069')\n",
      "(-0.0037475741037269472, 'T145')\n",
      "(0.0037648167235033725, 'T028')\n",
      "(-0.0038086576280988993, 'T017')\n",
      "(0.0039785268872947199, 'T013')\n",
      "(-0.0040053185718420536, 'T099')\n",
      "(0.0040232994833786506, 'T014')\n",
      "(0.0040338359576708172, 'T011')\n",
      "(-0.0040340655914405943, 'T212')\n",
      "(-0.0040359438605719333, 'CULEX SALINARIUS')\n",
      "(0.0041859979537548497, 'T015')\n",
      "(0.0044834208497377404, 'T235')\n",
      "(0.0047092114941733598, 'T016')\n",
      "(0.0047858114303380717, 'T230')\n",
      "(0.0049176471657119691, 'T096')\n",
      "(-0.0049408796108423303, 'T046')\n",
      "(0.0049934401940845419, 'T223')\n",
      "(-0.005053037754350953, 'T043')\n",
      "(0.005070076217634778, 'T006')\n",
      "(0.0052437189042393584, 'T225')\n",
      "(0.0054115459959120926, '3pt')\n",
      "(0.0054481354345625732, 'T233')\n",
      "(-0.0055431930113627459, 'T200')\n",
      "(-0.005720573469716328, 'T138')\n",
      "(-0.0058596555709300446, 'PrecipTotal')\n",
      "(-0.00590171291560182, 'CULEX TERRITANS')\n",
      "(0.0069342280804676193, 'T003')\n",
      "(0.0070191295708355028, 'T002')\n",
      "(0.0077522923347714823, 'T143')\n",
      "(-0.0079778174274451885, '7pt')\n",
      "(-0.010459912035003072, 'CULEX RESTUANS')\n",
      "(0.011483370875794208, 'T900')\n",
      "(0.011685730978570064, 'CULEX PIPIENS')\n",
      "(0.060376206207365612, '7dp')\n",
      "(0.062814574941512547, '7avg')\n",
      "(-0.065119585773572908, '7max')\n",
      "(-0.08058777807491424, '7wb')\n",
      "(-0.090690706055283954, 'WetBulb')\n",
      "(-0.12027038853375416, 'Tmax')\n",
      "(-0.12300522162604466, 'WeekSquared')\n",
      "(-0.13587597406421992, 'Tmin')\n",
      "(0.14040797344296152, 'Week')\n",
      "(0.16449793278479774, 'DewPoint')\n",
      "(0.20473439324996434, '3wb')\n",
      "(-0.2102183509250608, '3dp')\n",
      "(-0.2905336920193804, '3avg')\n",
      "(-0.30953056650105282, 'TavgWetBulb')\n",
      "(0.33910967848169093, '3avg3wb')\n",
      "(0.46731691956847499, 'Tavg')\n"
     ]
    }
   ],
   "source": [
    "x = zip(clf.coef_, trainMini[trainMini.columns - ['Date', 'Year', 'WnvPresent']].columns)\n",
    "for i in sorted(x, key=lambda i: abs(i[0])):\n",
    "    print i"
   ]
  },
  {
   "cell_type": "markdown",
   "metadata": {},
   "source": [
    "##On the test set##"
   ]
  },
  {
   "cell_type": "code",
   "execution_count": 227,
   "metadata": {
    "collapsed": false
   },
   "outputs": [
    {
     "name": "stdout",
     "output_type": "stream",
     "text": [
      "2015-05-30 19:14:50 clock set\n"
     ]
    }
   ],
   "source": [
    "print strftime('%Y-%m-%d %X'), 'clock set'\n",
    "test = pd.read_csv('../input/test.csv', parse_dates=['Date'], date_parser=date_parser)\n",
    "testFrame = transformFrame(test)"
   ]
  },
  {
   "cell_type": "code",
   "execution_count": 228,
   "metadata": {
    "collapsed": false
   },
   "outputs": [],
   "source": [
    "# # does this matter? not checked yet\n",
    "for i in testFrame.columns:\n",
    "    if i not in ('Date', 'Year', 'WnvPresent'):\n",
    "        testFrame[i] = scale(map(float, testFrame[i]))"
   ]
  },
  {
   "cell_type": "code",
   "execution_count": 229,
   "metadata": {
    "collapsed": false
   },
   "outputs": [],
   "source": [
    "Z_test = clf.predict(testFrame[testFrame.columns - ['Date', 'Year', 'WnvPresent'] - (testFrame.columns - trainMini.columns )])"
   ]
  },
  {
   "cell_type": "code",
   "execution_count": 230,
   "metadata": {
    "collapsed": false
   },
   "outputs": [
    {
     "name": "stdout",
     "output_type": "stream",
     "text": [
      "-0.172825920916 0.31975870958\n"
     ]
    }
   ],
   "source": [
    "print min(Z_test), max(Z_test)\n",
    "# these values are not all between 0 and 1"
   ]
  },
  {
   "cell_type": "code",
   "execution_count": 231,
   "metadata": {
    "collapsed": false
   },
   "outputs": [],
   "source": [
    "Z_test = Z_test + 0.2"
   ]
  },
  {
   "cell_type": "code",
   "execution_count": 232,
   "metadata": {
    "collapsed": false
   },
   "outputs": [
    {
     "name": "stdout",
     "output_type": "stream",
     "text": [
      "0.0271740790844 0.51975870958\n"
     ]
    }
   ],
   "source": [
    "print min(Z_test), max(Z_test)\n",
    "# these values are not all between 0 and 1"
   ]
  },
  {
   "cell_type": "code",
   "execution_count": 233,
   "metadata": {
    "collapsed": true
   },
   "outputs": [],
   "source": [
    "with open('ridgecv.csv', 'w') as f:\n",
    "    f.write('Id,WnvPresent\\n')\n",
    "    for i in xrange(1, 116293 + 1):\n",
    "        f.write(str(i) + ',' + str(Z_test[i - 1]) + '\\n')"
   ]
  },
  {
   "cell_type": "code",
   "execution_count": null,
   "metadata": {
    "collapsed": true
   },
   "outputs": [],
   "source": []
  }
 ],
 "metadata": {
  "kernelspec": {
   "display_name": "Python 2",
   "language": "python",
   "name": "python2"
  },
  "language_info": {
   "codemirror_mode": {
    "name": "ipython",
    "version": 2
   },
   "file_extension": ".py",
   "mimetype": "text/x-python",
   "name": "python",
   "nbconvert_exporter": "python",
   "pygments_lexer": "ipython2",
   "version": "2.7.9"
  }
 },
 "nbformat": 4,
 "nbformat_minor": 0
}
